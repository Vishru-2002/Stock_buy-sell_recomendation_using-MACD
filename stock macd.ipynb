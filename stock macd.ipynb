{
 "cells": [
  {
   "cell_type": "code",
   "execution_count": 1,
   "id": "25d1c66e",
   "metadata": {},
   "outputs": [],
   "source": [
    "#importing the libraries\n",
    "import pandas as pd\n",
    "import numpy as np\n",
    "import matplotlib.pyplot as plt\n",
    "\n",
    "%matplotlib inline\n",
    "# Remove Warnings\n",
    "\n",
    "import warnings\n",
    "warnings.filterwarnings('ignore')\n"
   ]
  },
  {
   "cell_type": "code",
   "execution_count": 2,
   "id": "5e23ebfa",
   "metadata": {},
   "outputs": [
    {
     "data": {
      "text/html": [
       "<div>\n",
       "<style scoped>\n",
       "    .dataframe tbody tr th:only-of-type {\n",
       "        vertical-align: middle;\n",
       "    }\n",
       "\n",
       "    .dataframe tbody tr th {\n",
       "        vertical-align: top;\n",
       "    }\n",
       "\n",
       "    .dataframe thead th {\n",
       "        text-align: right;\n",
       "    }\n",
       "</style>\n",
       "<table border=\"1\" class=\"dataframe\">\n",
       "  <thead>\n",
       "    <tr style=\"text-align: right;\">\n",
       "      <th></th>\n",
       "      <th>Date</th>\n",
       "      <th>Open</th>\n",
       "      <th>High</th>\n",
       "      <th>Low</th>\n",
       "      <th>Close</th>\n",
       "      <th>Adj Close</th>\n",
       "      <th>Volume</th>\n",
       "    </tr>\n",
       "  </thead>\n",
       "  <tbody>\n",
       "    <tr>\n",
       "      <th>246</th>\n",
       "      <td>2021-08-30</td>\n",
       "      <td>714.719971</td>\n",
       "      <td>731.000000</td>\n",
       "      <td>712.729980</td>\n",
       "      <td>730.909973</td>\n",
       "      <td>730.909973</td>\n",
       "      <td>18604200</td>\n",
       "    </tr>\n",
       "    <tr>\n",
       "      <th>247</th>\n",
       "      <td>2021-08-31</td>\n",
       "      <td>733.000000</td>\n",
       "      <td>740.390015</td>\n",
       "      <td>726.440002</td>\n",
       "      <td>735.719971</td>\n",
       "      <td>735.719971</td>\n",
       "      <td>20855400</td>\n",
       "    </tr>\n",
       "    <tr>\n",
       "      <th>248</th>\n",
       "      <td>2021-09-01</td>\n",
       "      <td>734.080017</td>\n",
       "      <td>741.989990</td>\n",
       "      <td>731.270020</td>\n",
       "      <td>734.090027</td>\n",
       "      <td>734.090027</td>\n",
       "      <td>13204300</td>\n",
       "    </tr>\n",
       "    <tr>\n",
       "      <th>249</th>\n",
       "      <td>2021-09-02</td>\n",
       "      <td>734.500000</td>\n",
       "      <td>740.969971</td>\n",
       "      <td>730.539978</td>\n",
       "      <td>732.390015</td>\n",
       "      <td>732.390015</td>\n",
       "      <td>12777300</td>\n",
       "    </tr>\n",
       "    <tr>\n",
       "      <th>250</th>\n",
       "      <td>2021-09-03</td>\n",
       "      <td>732.250000</td>\n",
       "      <td>734.000000</td>\n",
       "      <td>724.200012</td>\n",
       "      <td>733.570007</td>\n",
       "      <td>733.570007</td>\n",
       "      <td>15246100</td>\n",
       "    </tr>\n",
       "  </tbody>\n",
       "</table>\n",
       "</div>"
      ],
      "text/plain": [
       "           Date        Open        High         Low       Close   Adj Close  \\\n",
       "246  2021-08-30  714.719971  731.000000  712.729980  730.909973  730.909973   \n",
       "247  2021-08-31  733.000000  740.390015  726.440002  735.719971  735.719971   \n",
       "248  2021-09-01  734.080017  741.989990  731.270020  734.090027  734.090027   \n",
       "249  2021-09-02  734.500000  740.969971  730.539978  732.390015  732.390015   \n",
       "250  2021-09-03  732.250000  734.000000  724.200012  733.570007  733.570007   \n",
       "\n",
       "       Volume  \n",
       "246  18604200  \n",
       "247  20855400  \n",
       "248  13204300  \n",
       "249  12777300  \n",
       "250  15246100  "
      ]
     },
     "execution_count": 2,
     "metadata": {},
     "output_type": "execute_result"
    }
   ],
   "source": [
    "#load the data\n",
    "df=pd.read_csv('TSLA.csv')\n",
    "\n",
    "df.tail()"
   ]
  },
  {
   "cell_type": "code",
   "execution_count": 3,
   "id": "ebb1f57e",
   "metadata": {},
   "outputs": [
    {
     "data": {
      "text/plain": [
       "Date         0\n",
       "Open         0\n",
       "High         0\n",
       "Low          0\n",
       "Close        0\n",
       "Adj Close    0\n",
       "Volume       0\n",
       "dtype: int64"
      ]
     },
     "execution_count": 3,
     "metadata": {},
     "output_type": "execute_result"
    }
   ],
   "source": [
    "# Check null Values\n",
    "df.isnull().sum()"
   ]
  },
  {
   "cell_type": "code",
   "execution_count": 4,
   "id": "294d6668",
   "metadata": {},
   "outputs": [
    {
     "name": "stdout",
     "output_type": "stream",
     "text": [
      "<class 'pandas.core.frame.DataFrame'>\n",
      "DatetimeIndex: 251 entries, 2020-09-08 to 2021-09-03\n",
      "Data columns (total 7 columns):\n",
      " #   Column     Non-Null Count  Dtype  \n",
      "---  ------     --------------  -----  \n",
      " 0   Date       251 non-null    object \n",
      " 1   Open       251 non-null    float64\n",
      " 2   High       251 non-null    float64\n",
      " 3   Low        251 non-null    float64\n",
      " 4   Close      251 non-null    float64\n",
      " 5   Adj Close  251 non-null    float64\n",
      " 6   Volume     251 non-null    int64  \n",
      "dtypes: float64(5), int64(1), object(1)\n",
      "memory usage: 15.7+ KB\n"
     ]
    }
   ],
   "source": [
    "#changing the index value of date\n",
    "df=df.set_index(pd.DatetimeIndex(df['Date'].values))\n",
    "\n",
    "df.info()"
   ]
  },
  {
   "cell_type": "code",
   "execution_count": 5,
   "id": "581d8f91",
   "metadata": {},
   "outputs": [
    {
     "name": "stdout",
     "output_type": "stream",
     "text": [
      "<class 'pandas.core.frame.DataFrame'>\n",
      "DatetimeIndex: 251 entries, 2020-09-08 to 2021-09-03\n",
      "Data columns (total 7 columns):\n",
      " #   Column     Non-Null Count  Dtype         \n",
      "---  ------     --------------  -----         \n",
      " 0   Date       251 non-null    datetime64[ns]\n",
      " 1   Open       251 non-null    float64       \n",
      " 2   High       251 non-null    float64       \n",
      " 3   Low        251 non-null    float64       \n",
      " 4   Close      251 non-null    float64       \n",
      " 5   Adj Close  251 non-null    float64       \n",
      " 6   Volume     251 non-null    int64         \n",
      "dtypes: datetime64[ns](1), float64(5), int64(1)\n",
      "memory usage: 15.7 KB\n"
     ]
    }
   ],
   "source": [
    "from pandas import to_datetime\n",
    "\n",
    "df['Date']=pd.to_datetime(to_datetime(df['Date']))\n",
    "df.info()"
   ]
  },
  {
   "cell_type": "code",
   "execution_count": 6,
   "id": "6888c9e0",
   "metadata": {},
   "outputs": [
    {
     "data": {
      "image/png": "[encoded data removed]",
      "text/plain": [
       "<Figure size 900x360 with 1 Axes>"
      ]
     },
     "metadata": {
      "needs_background": "light"
     },
     "output_type": "display_data"
    }
   ],
   "source": [
    "#visualizing stock price\n",
    "plt.figure(figsize=(12.5,5))\n",
    "plt.plot(df['Close'],label='Close')\n",
    "plt.title('Close Price')\n",
    "plt.xlabel('Date')\n",
    "plt.ylabel('Price USD')\n",
    "plt.show()"
   ]
  },
  {
   "cell_type": "code",
   "execution_count": 7,
   "id": "aadbbe4f",
   "metadata": {},
   "outputs": [
    {
     "data": {
      "image/png": "[encoded data removed]",
      "text/plain": [
       "<Figure size 900x360 with 1 Axes>"
      ]
     },
     "metadata": {
      "needs_background": "light"
     },
     "output_type": "display_data"
    }
   ],
   "source": [
    "#calculating MACF and signal line indicaters\n",
    "shortema=df['Close'].ewm(span=12,adjust=False).mean()\n",
    "longema=df.Close.ewm(span=26,adjust=False).mean()\n",
    "#macd line\n",
    "macd=shortema-longema\n",
    "#signal line\n",
    "signal=macd.ewm(span=9,adjust=False).mean()\n",
    "\n",
    "\n",
    "#ploting the graph\n",
    "plt.figure(figsize=(12.5,5))\n",
    "plt.plot(df.index,macd,label='MACD',color='red')\n",
    "plt.plot(df.index,signal,label='Signal Line',color='blue')\n",
    "plt.legend(loc='upper right')\n",
    "plt.show()"
   ]
  },
  {
   "cell_type": "code",
   "execution_count": 8,
   "id": "69b94078",
   "metadata": {},
   "outputs": [
    {
     "data": {
      "text/html": [
       "<div>\n",
       "<style scoped>\n",
       "    .dataframe tbody tr th:only-of-type {\n",
       "        vertical-align: middle;\n",
       "    }\n",
       "\n",
       "    .dataframe tbody tr th {\n",
       "        vertical-align: top;\n",
       "    }\n",
       "\n",
       "    .dataframe thead th {\n",
       "        text-align: right;\n",
       "    }\n",
       "</style>\n",
       "<table border=\"1\" class=\"dataframe\">\n",
       "  <thead>\n",
       "    <tr style=\"text-align: right;\">\n",
       "      <th></th>\n",
       "      <th>Date</th>\n",
       "      <th>Open</th>\n",
       "      <th>High</th>\n",
       "      <th>Low</th>\n",
       "      <th>Close</th>\n",
       "      <th>Adj Close</th>\n",
       "      <th>Volume</th>\n",
       "      <th>MACD</th>\n",
       "      <th>Signal</th>\n",
       "    </tr>\n",
       "  </thead>\n",
       "  <tbody>\n",
       "    <tr>\n",
       "      <th>2020-09-08</th>\n",
       "      <td>2020-09-08</td>\n",
       "      <td>356.000000</td>\n",
       "      <td>368.739990</td>\n",
       "      <td>329.880005</td>\n",
       "      <td>330.209991</td>\n",
       "      <td>330.209991</td>\n",
       "      <td>115465700</td>\n",
       "      <td>0.000000</td>\n",
       "      <td>0.000000</td>\n",
       "    </tr>\n",
       "    <tr>\n",
       "      <th>2020-09-09</th>\n",
       "      <td>2020-09-09</td>\n",
       "      <td>356.600006</td>\n",
       "      <td>369.000000</td>\n",
       "      <td>341.510010</td>\n",
       "      <td>366.279999</td>\n",
       "      <td>366.279999</td>\n",
       "      <td>79465800</td>\n",
       "      <td>2.877380</td>\n",
       "      <td>0.575476</td>\n",
       "    </tr>\n",
       "    <tr>\n",
       "      <th>2020-09-10</th>\n",
       "      <td>2020-09-10</td>\n",
       "      <td>386.209991</td>\n",
       "      <td>398.989990</td>\n",
       "      <td>360.559998</td>\n",
       "      <td>371.339996</td>\n",
       "      <td>371.339996</td>\n",
       "      <td>84930600</td>\n",
       "      <td>5.502593</td>\n",
       "      <td>1.560899</td>\n",
       "    </tr>\n",
       "    <tr>\n",
       "      <th>2020-09-11</th>\n",
       "      <td>2020-09-11</td>\n",
       "      <td>381.940002</td>\n",
       "      <td>382.500000</td>\n",
       "      <td>360.500000</td>\n",
       "      <td>372.720001</td>\n",
       "      <td>372.720001</td>\n",
       "      <td>60717500</td>\n",
       "      <td>7.606762</td>\n",
       "      <td>2.770072</td>\n",
       "    </tr>\n",
       "    <tr>\n",
       "      <th>2020-09-14</th>\n",
       "      <td>2020-09-14</td>\n",
       "      <td>380.950012</td>\n",
       "      <td>420.000000</td>\n",
       "      <td>373.299988</td>\n",
       "      <td>419.619995</td>\n",
       "      <td>419.619995</td>\n",
       "      <td>83020600</td>\n",
       "      <td>12.909951</td>\n",
       "      <td>4.798047</td>\n",
       "    </tr>\n",
       "    <tr>\n",
       "      <th>...</th>\n",
       "      <td>...</td>\n",
       "      <td>...</td>\n",
       "      <td>...</td>\n",
       "      <td>...</td>\n",
       "      <td>...</td>\n",
       "      <td>...</td>\n",
       "      <td>...</td>\n",
       "      <td>...</td>\n",
       "      <td>...</td>\n",
       "    </tr>\n",
       "    <tr>\n",
       "      <th>2021-08-30</th>\n",
       "      <td>2021-08-30</td>\n",
       "      <td>714.719971</td>\n",
       "      <td>731.000000</td>\n",
       "      <td>712.729980</td>\n",
       "      <td>730.909973</td>\n",
       "      <td>730.909973</td>\n",
       "      <td>18604200</td>\n",
       "      <td>10.427657</td>\n",
       "      <td>9.213903</td>\n",
       "    </tr>\n",
       "    <tr>\n",
       "      <th>2021-08-31</th>\n",
       "      <td>2021-08-31</td>\n",
       "      <td>733.000000</td>\n",
       "      <td>740.390015</td>\n",
       "      <td>726.440002</td>\n",
       "      <td>735.719971</td>\n",
       "      <td>735.719971</td>\n",
       "      <td>20855400</td>\n",
       "      <td>12.134118</td>\n",
       "      <td>9.797946</td>\n",
       "    </tr>\n",
       "    <tr>\n",
       "      <th>2021-09-01</th>\n",
       "      <td>2021-09-01</td>\n",
       "      <td>734.080017</td>\n",
       "      <td>741.989990</td>\n",
       "      <td>731.270020</td>\n",
       "      <td>734.090027</td>\n",
       "      <td>734.090027</td>\n",
       "      <td>13204300</td>\n",
       "      <td>13.202785</td>\n",
       "      <td>10.478914</td>\n",
       "    </tr>\n",
       "    <tr>\n",
       "      <th>2021-09-02</th>\n",
       "      <td>2021-09-02</td>\n",
       "      <td>734.500000</td>\n",
       "      <td>740.969971</td>\n",
       "      <td>730.539978</td>\n",
       "      <td>732.390015</td>\n",
       "      <td>732.390015</td>\n",
       "      <td>12777300</td>\n",
       "      <td>13.753987</td>\n",
       "      <td>11.133928</td>\n",
       "    </tr>\n",
       "    <tr>\n",
       "      <th>2021-09-03</th>\n",
       "      <td>2021-09-03</td>\n",
       "      <td>732.250000</td>\n",
       "      <td>734.000000</td>\n",
       "      <td>724.200012</td>\n",
       "      <td>733.570007</td>\n",
       "      <td>733.570007</td>\n",
       "      <td>15246100</td>\n",
       "      <td>14.123230</td>\n",
       "      <td>11.731789</td>\n",
       "    </tr>\n",
       "  </tbody>\n",
       "</table>\n",
       "<p>251 rows × 9 columns</p>\n",
       "</div>"
      ],
      "text/plain": [
       "                 Date        Open        High         Low       Close  \\\n",
       "2020-09-08 2020-09-08  356.000000  368.739990  329.880005  330.209991   \n",
       "2020-09-09 2020-09-09  356.600006  369.000000  341.510010  366.279999   \n",
       "2020-09-10 2020-09-10  386.209991  398.989990  360.559998  371.339996   \n",
       "2020-09-11 2020-09-11  381.940002  382.500000  360.500000  372.720001   \n",
       "2020-09-14 2020-09-14  380.950012  420.000000  373.299988  419.619995   \n",
       "...               ...         ...         ...         ...         ...   \n",
       "2021-08-30 2021-08-30  714.719971  731.000000  712.729980  730.909973   \n",
       "2021-08-31 2021-08-31  733.000000  740.390015  726.440002  735.719971   \n",
       "2021-09-01 2021-09-01  734.080017  741.989990  731.270020  734.090027   \n",
       "2021-09-02 2021-09-02  734.500000  740.969971  730.539978  732.390015   \n",
       "2021-09-03 2021-09-03  732.250000  734.000000  724.200012  733.570007   \n",
       "\n",
       "             Adj Close     Volume       MACD     Signal  \n",
       "2020-09-08  330.209991  115465700   0.000000   0.000000  \n",
       "2020-09-09  366.279999   79465800   2.877380   0.575476  \n",
       "2020-09-10  371.339996   84930600   5.502593   1.560899  \n",
       "2020-09-11  372.720001   60717500   7.606762   2.770072  \n",
       "2020-09-14  419.619995   83020600  12.909951   4.798047  \n",
       "...                ...        ...        ...        ...  \n",
       "2021-08-30  730.909973   18604200  10.427657   9.213903  \n",
       "2021-08-31  735.719971   20855400  12.134118   9.797946  \n",
       "2021-09-01  734.090027   13204300  13.202785  10.478914  \n",
       "2021-09-02  732.390015   12777300  13.753987  11.133928  \n",
       "2021-09-03  733.570007   15246100  14.123230  11.731789  \n",
       "\n",
       "[251 rows x 9 columns]"
      ]
     },
     "execution_count": 8,
     "metadata": {},
     "output_type": "execute_result"
    }
   ],
   "source": [
    "#inserting macd and signal value in dataframe\n",
    "df['MACD']=macd\n",
    "df['Signal']=signal\n",
    "df"
   ]
  },
  {
   "cell_type": "code",
   "execution_count": 9,
   "id": "cf0bc258",
   "metadata": {},
   "outputs": [],
   "source": [
    "#buy and sell value determination\n",
    "def bs(a):\n",
    "    buy,sell=[],[]\n",
    "    \n",
    "    flag=-1\n",
    "    for i in range(0,len(a)):\n",
    "        if a['MACD'][i]>a['Signal'][i]:\n",
    "            sell.append(np.nan)\n",
    "            if flag!=1:\n",
    "                buy.append(a['Close'][i])\n",
    "                flag=1\n",
    "            else:\n",
    "                buy.append(np.nan)\n",
    "        elif a['MACD'][i]<a['Signal'][i]:\n",
    "            buy.append(np.nan)\n",
    "            if flag!=0:\n",
    "                sell.append(a['Close'][i])\n",
    "                flag=0\n",
    "            else:\n",
    "                sell.append(np.nan)\n",
    "        else:\n",
    "            buy.append(np.nan)\n",
    "            sell.append(np.nan)\n",
    "            \n",
    "    return(buy,sell)\n",
    "\n",
    "x=bs(df)\n",
    "df['Buy signal']=x[0]\n",
    "df['Sell signal']=x[1]"
   ]
  },
  {
   "cell_type": "code",
   "execution_count": 10,
   "id": "31d1c753",
   "metadata": {},
   "outputs": [
    {
     "data": {
      "image/png": "[encoded data removed]",
      "text/plain": [
       "<Figure size 900x360 with 1 Axes>"
      ]
     },
     "metadata": {
      "needs_background": "light"
     },
     "output_type": "display_data"
    }
   ],
   "source": [
    "#buy sell recomendation\n",
    "plt.figure(figsize=(12.5,5))\n",
    "plt.scatter(df.index,df['Buy signal'],color='red',label='Buy',marker='^',alpha=1)\n",
    "plt.scatter(df.index,df['Sell signal'],color='green',label='Sell',marker='v',alpha=1)\n",
    "plt.plot(df['Close'],label='Close Price',alpha=0.3)\n",
    "plt.title('Buy Sell recomendation')\n",
    "plt.xlabel('Date')\n",
    "plt.ylabel('Close price in dollars')\n",
    "plt.legend()\n",
    "plt.show()"
   ]
  },
  {
   "cell_type": "code",
   "execution_count": 11,
   "id": "55451e8a",
   "metadata": {},
   "outputs": [
    {
     "data": {
      "text/html": [
       "        <script type=\"text/javascript\">\n",
       "        window.PlotlyConfig = {MathJaxConfig: 'local'};\n",
       "        if (window.MathJax) {MathJax.Hub.Config({SVG: {font: \"STIX-Web\"}});}\n",
       "        if (typeof require !== 'undefined') {\n",
       "        require.undef(\"plotly\");\n",
       "        requirejs.config({\n",
       "            paths: {\n",
       "                'plotly': ['https://cdn.plot.ly/plotly-2.2.0.min']\n",
       "            }\n",
       "        });\n",
       "        require(['plotly'], function(Plotly) {\n",
       "            window._Plotly = Plotly;\n",
       "        });\n",
       "        }\n",
       "        </script>\n",
       "        "
      ]
     },
     "metadata": {},
     "output_type": "display_data"
    }
   ],
   "source": [
    "#he pandas dataframe object does not have the iplot method when \n",
    "#it isn't linked to plotly. We need cufflinks to link pandas to plotly \n",
    "#and add the iplot method\n",
    "import cufflinks as cf\n",
    "cf.go_offline()\n",
    "cf.set_config_file(offline=False, world_readable=True)"
   ]
  },
  {
   "cell_type": "code",
   "execution_count": 12,
   "id": "714960d2",
   "metadata": {
    "scrolled": true
   },
   "outputs": [
    {
     "data": {
      "application/vnd.plotly.v1+json": {
       "config": {
        "linkText": "Export to plot.ly",
        "plotlyServerURL": "https://plot.ly",
        "showLink": true
       },
       "data": [
        {
         "histfunc": "count",
         "histnorm": "",
         "marker": {
          "color": "rgba(255, 153, 51, 1.0)",
          "line": {
           "color": "#4D5663",
           "width": 1.3
          }
         },
         "name": "Close",
         "nbinsx": 30,
         "opacity": 0.8,
         "orientation": "v",
         "type": "histogram",
         "x": [
          330.209991,
          366.279999,
          371.339996,
          372.720001,
          419.619995,
          449.76001,
          441.76001,
          423.429993,
          442.149994,
          449.390015,
          424.230011,
          380.359985,
          387.790009,
          407.339996,
          421.200012,
          419.070007,
          429.01001,
          448.160004,
          415.089996,
          425.679993,
          413.980011,
          425.299988,
          425.920013,
          434,
          442.299988,
          446.649994,
          461.299988,
          448.880005,
          439.670013,
          430.829987,
          421.940002,
          422.640015,
          425.790009,
          420.630005,
          420.279999,
          424.679993,
          406.019989,
          410.829987,
          388.040009,
          400.51001,
          423.899994,
          420.980011,
          438.089996,
          429.950012,
          421.26001,
          410.359985,
          417.130005,
          411.76001,
          408.5,
          408.089996,
          441.609985,
          486.640015,
          499.269989,
          489.609985,
          521.849976,
          555.380005,
          574,
          585.76001,
          567.599976,
          584.76001,
          568.820007,
          593.380005,
          599.039978,
          641.76001,
          649.880005,
          604.47998,
          627.070007,
          609.98999,
          639.830017,
          633.25,
          622.77002,
          655.900024,
          695,
          649.859985,
          640.340027,
          645.97998,
          661.77002,
          663.690002,
          665.98999,
          694.780029,
          705.669983,
          729.77002,
          735.109985,
          755.97998,
          816.039978,
          880.02002,
          811.190002,
          849.440002,
          854.409973,
          845,
          826.159973,
          844.549988,
          850.450012,
          844.98999,
          846.640015,
          880.799988,
          883.090027,
          864.159973,
          835.429993,
          793.530029,
          839.809998,
          872.789978,
          854.690002,
          849.98999,
          852.22998,
          863.419983,
          849.460022,
          804.820007,
          811.659973,
          816.119995,
          796.219971,
          798.150024,
          787.380005,
          781.299988,
          714.5,
          698.840027,
          742.02002,
          682.219971,
          675.5,
          718.429993,
          686.440002,
          653.200012,
          621.440002,
          597.950012,
          563,
          673.580017,
          668.059998,
          699.599976,
          693.72998,
          707.940002,
          676.880005,
          701.809998,
          653.159973,
          654.869995,
          670,
          662.159973,
          630.27002,
          640.390015,
          618.710022,
          611.289978,
          635.619995,
          667.929993,
          661.75,
          691.049988,
          691.619995,
          670.969971,
          683.799988,
          677.02002,
          701.97998,
          762.320007,
          732.22998,
          738.849976,
          739.780029,
          714.630005,
          718.98999,
          744.119995,
          719.690002,
          729.400024,
          738.200012,
          704.73999,
          694.400024,
          677,
          709.440002,
          684.900024,
          673.599976,
          670.940002,
          663.539978,
          672.369995,
          629.039978,
          617.200012,
          589.890015,
          571.690002,
          589.73999,
          576.830017,
          577.869995,
          563.460022,
          586.780029,
          580.880005,
          606.440002,
          604.690002,
          619.130005,
          630.849976,
          625.219971,
          623.900024,
          605.119995,
          572.840027,
          599.049988,
          605.130005,
          603.590027,
          598.780029,
          610.119995,
          609.890015,
          617.690002,
          599.359985,
          604.869995,
          616.599976,
          623.309998,
          620.830017,
          623.710022,
          656.570007,
          679.820007,
          671.869995,
          688.719971,
          680.76001,
          679.700012,
          677.919983,
          678.900024,
          659.580017,
          644.650024,
          652.809998,
          656.950012,
          685.700012,
          668.539978,
          653.380005,
          650.599976,
          644.219971,
          646.219971,
          660.5,
          655.289978,
          649.26001,
          643.380005,
          657.619995,
          644.780029,
          646.97998,
          677.349976,
          687.200012,
          709.669983,
          709.73999,
          710.919983,
          714.630005,
          699.099976,
          713.76001,
          709.98999,
          707.820007,
          722.25,
          717.169983,
          686.169983,
          665.710022,
          688.98999,
          673.469971,
          680.26001,
          706.299988,
          708.48999,
          711.200012,
          701.159973,
          711.919983,
          730.909973,
          735.719971,
          734.090027,
          732.390015,
          733.570007
         ]
        }
       ],
       "layout": {
        "barmode": "overlay",
        "legend": {
         "bgcolor": "#FFFFFF",
         "font": {
          "color": "#4D5663"
         }
        },
        "paper_bgcolor": "#FFFFFF",
        "plot_bgcolor": "#FFFFFF",
        "template": {
         "data": {
          "bar": [
           {
            "error_x": {
             "color": "#2a3f5f"
            },
            "error_y": {
             "color": "#2a3f5f"
            },
            "marker": {
             "line": {
              "color": "#E5ECF6",
              "width": 0.5
             },
             "pattern": {
              "fillmode": "overlay",
              "size": 10,
              "solidity": 0.2
             }
            },
            "type": "bar"
           }
          ],
          "barpolar": [
           {
            "marker": {
             "line": {
              "color": "#E5ECF6",
              "width": 0.5
             },
             "pattern": {
              "fillmode": "overlay",
              "size": 10,
              "solidity": 0.2
             }
            },
            "type": "barpolar"
           }
          ],
          "carpet": [
           {
            "aaxis": {
             "endlinecolor": "#2a3f5f",
             "gridcolor": "white",
             "linecolor": "white",
             "minorgridcolor": "white",
             "startlinecolor": "#2a3f5f"
            },
            "baxis": {
             "endlinecolor": "#2a3f5f",
             "gridcolor": "white",
             "linecolor": "white",
             "minorgridcolor": "white",
             "startlinecolor": "#2a3f5f"
            },
            "type": "carpet"
           }
          ],
          "choropleth": [
           {
            "colorbar": {
             "outlinewidth": 0,
             "ticks": ""
            },
            "type": "choropleth"
           }
          ],
          "contour": [
           {
            "colorbar": {
             "outlinewidth": 0,
             "ticks": ""
            },
            "colorscale": [
             [
              0,
              "#0d0887"
             ],
             [
              0.1111111111111111,
              "#46039f"
             ],
             [
              0.2222222222222222,
              "#7201a8"
             ],
             [
              0.3333333333333333,
              "#9c179e"
             ],
             [
              0.4444444444444444,
              "#bd3786"
             ],
             [
              0.5555555555555556,
              "#d8576b"
             ],
             [
              0.6666666666666666,
              "#ed7953"
             ],
             [
              0.7777777777777778,
              "#fb9f3a"
             ],
             [
              0.8888888888888888,
              "#fdca26"
             ],
             [
              1,
              "#f0f921"
             ]
            ],
            "type": "contour"
           }
          ],
          "contourcarpet": [
           {
            "colorbar": {
             "outlinewidth": 0,
             "ticks": ""
            },
            "type": "contourcarpet"
           }
          ],
          "heatmap": [
           {
            "colorbar": {
             "outlinewidth": 0,
             "ticks": ""
            },
            "colorscale": [
             [
              0,
              "#0d0887"
             ],
             [
              0.1111111111111111,
              "#46039f"
             ],
             [
              0.2222222222222222,
              "#7201a8"
             ],
             [
              0.3333333333333333,
              "#9c179e"
             ],
             [
              0.4444444444444444,
              "#bd3786"
             ],
             [
              0.5555555555555556,
              "#d8576b"
             ],
             [
              0.6666666666666666,
              "#ed7953"
             ],
             [
              0.7777777777777778,
              "#fb9f3a"
             ],
             [
              0.8888888888888888,
              "#fdca26"
             ],
             [
              1,
              "#f0f921"
             ]
            ],
            "type": "heatmap"
           }
          ],
          "heatmapgl": [
           {
            "colorbar": {
             "outlinewidth": 0,
             "ticks": ""
            },
            "colorscale": [
             [
              0,
              "#0d0887"
             ],
             [
              0.1111111111111111,
              "#46039f"
             ],
             [
              0.2222222222222222,
              "#7201a8"
             ],
             [
              0.3333333333333333,
              "#9c179e"
             ],
             [
              0.4444444444444444,
              "#bd3786"
             ],
             [
              0.5555555555555556,
              "#d8576b"
             ],
             [
              0.6666666666666666,
              "#ed7953"
             ],
             [
              0.7777777777777778,
              "#fb9f3a"
             ],
             [
              0.8888888888888888,
              "#fdca26"
             ],
             [
              1,
              "#f0f921"
             ]
            ],
            "type": "heatmapgl"
           }
          ],
          "histogram": [
           {
            "marker": {
             "pattern": {
              "fillmode": "overlay",
              "size": 10,
              "solidity": 0.2
             }
            },
            "type": "histogram"
           }
          ],
          "histogram2d": [
           {
            "colorbar": {
             "outlinewidth": 0,
             "ticks": ""
            },
            "colorscale": [
             [
              0,
              "#0d0887"
             ],
             [
              0.1111111111111111,
              "#46039f"
             ],
             [
              0.2222222222222222,
              "#7201a8"
             ],
             [
              0.3333333333333333,
              "#9c179e"
             ],
             [
              0.4444444444444444,
              "#bd3786"
             ],
             [
              0.5555555555555556,
              "#d8576b"
             ],
             [
              0.6666666666666666,
              "#ed7953"
             ],
             [
              0.7777777777777778,
              "#fb9f3a"
             ],
             [
              0.8888888888888888,
              "#fdca26"
             ],
             [
              1,
              "#f0f921"
             ]
            ],
            "type": "histogram2d"
           }
          ],
          "histogram2dcontour": [
           {
            "colorbar": {
             "outlinewidth": 0,
             "ticks": ""
            },
            "colorscale": [
             [
              0,
              "#0d0887"
             ],
             [
              0.1111111111111111,
              "#46039f"
             ],
             [
              0.2222222222222222,
              "#7201a8"
             ],
             [
              0.3333333333333333,
              "#9c179e"
             ],
             [
              0.4444444444444444,
              "#bd3786"
             ],
             [
              0.5555555555555556,
              "#d8576b"
             ],
             [
              0.6666666666666666,
              "#ed7953"
             ],
             [
              0.7777777777777778,
              "#fb9f3a"
             ],
             [
              0.8888888888888888,
              "#fdca26"
             ],
             [
              1,
              "#f0f921"
             ]
            ],
            "type": "histogram2dcontour"
           }
          ],
          "mesh3d": [
           {
            "colorbar": {
             "outlinewidth": 0,
             "ticks": ""
            },
            "type": "mesh3d"
           }
          ],
          "parcoords": [
           {
            "line": {
             "colorbar": {
              "outlinewidth": 0,
              "ticks": ""
             }
            },
            "type": "parcoords"
           }
          ],
          "pie": [
           {
            "automargin": true,
            "type": "pie"
           }
          ],
          "scatter": [
           {
            "marker": {
             "colorbar": {
              "outlinewidth": 0,
              "ticks": ""
             }
            },
            "type": "scatter"
           }
          ],
          "scatter3d": [
           {
            "line": {
             "colorbar": {
              "outlinewidth": 0,
              "ticks": ""
             }
            },
            "marker": {
             "colorbar": {
              "outlinewidth": 0,
              "ticks": ""
             }
            },
            "type": "scatter3d"
           }
          ],
          "scattercarpet": [
           {
            "marker": {
             "colorbar": {
              "outlinewidth": 0,
              "ticks": ""
             }
            },
            "type": "scattercarpet"
           }
          ],
          "scattergeo": [
           {
            "marker": {
             "colorbar": {
              "outlinewidth": 0,
              "ticks": ""
             }
            },
            "type": "scattergeo"
           }
          ],
          "scattergl": [
           {
            "marker": {
             "colorbar": {
              "outlinewidth": 0,
              "ticks": ""
             }
            },
            "type": "scattergl"
           }
          ],
          "scattermapbox": [
           {
            "marker": {
             "colorbar": {
              "outlinewidth": 0,
              "ticks": ""
             }
            },
            "type": "scattermapbox"
           }
          ],
          "scatterpolar": [
           {
            "marker": {
             "colorbar": {
              "outlinewidth": 0,
              "ticks": ""
             }
            },
            "type": "scatterpolar"
           }
          ],
          "scatterpolargl": [
           {
            "marker": {
             "colorbar": {
              "outlinewidth": 0,
              "ticks": ""
             }
            },
            "type": "scatterpolargl"
           }
          ],
          "scatterternary": [
           {
            "marker": {
             "colorbar": {
              "outlinewidth": 0,
              "ticks": ""
             }
            },
            "type": "scatterternary"
           }
          ],
          "surface": [
           {
            "colorbar": {
             "outlinewidth": 0,
             "ticks": ""
            },
            "colorscale": [
             [
              0,
              "#0d0887"
             ],
             [
              0.1111111111111111,
              "#46039f"
             ],
             [
              0.2222222222222222,
              "#7201a8"
             ],
             [
              0.3333333333333333,
              "#9c179e"
             ],
             [
              0.4444444444444444,
              "#bd3786"
             ],
             [
              0.5555555555555556,
              "#d8576b"
             ],
             [
              0.6666666666666666,
              "#ed7953"
             ],
             [
              0.7777777777777778,
              "#fb9f3a"
             ],
             [
              0.8888888888888888,
              "#fdca26"
             ],
             [
              1,
              "#f0f921"
             ]
            ],
            "type": "surface"
           }
          ],
          "table": [
           {
            "cells": {
             "fill": {
              "color": "#EBF0F8"
             },
             "line": {
              "color": "white"
             }
            },
            "header": {
             "fill": {
              "color": "#C8D4E3"
             },
             "line": {
              "color": "white"
             }
            },
            "type": "table"
           }
          ]
         },
         "layout": {
          "annotationdefaults": {
           "arrowcolor": "#2a3f5f",
           "arrowhead": 0,
           "arrowwidth": 1
          },
          "autotypenumbers": "strict",
          "coloraxis": {
           "colorbar": {
            "outlinewidth": 0,
            "ticks": ""
           }
          },
          "colorscale": {
           "diverging": [
            [
             0,
             "#8e0152"
            ],
            [
             0.1,
             "#c51b7d"
            ],
            [
             0.2,
             "#de77ae"
            ],
            [
             0.3,
             "#f1b6da"
            ],
            [
             0.4,
             "#fde0ef"
            ],
            [
             0.5,
             "#f7f7f7"
            ],
            [
             0.6,
             "#e6f5d0"
            ],
            [
             0.7,
             "#b8e186"
            ],
            [
             0.8,
             "#7fbc41"
            ],
            [
             0.9,
             "#4d9221"
            ],
            [
             1,
             "#276419"
            ]
           ],
           "sequential": [
            [
             0,
             "#0d0887"
            ],
            [
             0.1111111111111111,
             "#46039f"
            ],
            [
             0.2222222222222222,
             "#7201a8"
            ],
            [
             0.3333333333333333,
             "#9c179e"
            ],
            [
             0.4444444444444444,
             "#bd3786"
            ],
            [
             0.5555555555555556,
             "#d8576b"
            ],
            [
             0.6666666666666666,
             "#ed7953"
            ],
            [
             0.7777777777777778,
             "#fb9f3a"
            ],
            [
             0.8888888888888888,
             "#fdca26"
            ],
            [
             1,
             "#f0f921"
            ]
           ],
           "sequentialminus": [
            [
             0,
             "#0d0887"
            ],
            [
             0.1111111111111111,
             "#46039f"
            ],
            [
             0.2222222222222222,
             "#7201a8"
            ],
            [
             0.3333333333333333,
             "#9c179e"
            ],
            [
             0.4444444444444444,
             "#bd3786"
            ],
            [
             0.5555555555555556,
             "#d8576b"
            ],
            [
             0.6666666666666666,
             "#ed7953"
            ],
            [
             0.7777777777777778,
             "#fb9f3a"
            ],
            [
             0.8888888888888888,
             "#fdca26"
            ],
            [
             1,
             "#f0f921"
            ]
           ]
          },
          "colorway": [
           "#636efa",
           "#EF553B",
           "#00cc96",
           "#ab63fa",
           "#FFA15A",
           "#19d3f3",
           "#FF6692",
           "#B6E880",
           "#FF97FF",
           "#FECB52"
          ],
          "font": {
           "color": "#2a3f5f"
          },
          "geo": {
           "bgcolor": "white",
           "lakecolor": "white",
           "landcolor": "#E5ECF6",
           "showlakes": true,
           "showland": true,
           "subunitcolor": "white"
          },
          "hoverlabel": {
           "align": "left"
          },
          "hovermode": "closest",
          "mapbox": {
           "style": "light"
          },
          "paper_bgcolor": "white",
          "plot_bgcolor": "#E5ECF6",
          "polar": {
           "angularaxis": {
            "gridcolor": "white",
            "linecolor": "white",
            "ticks": ""
           },
           "bgcolor": "#E5ECF6",
           "radialaxis": {
            "gridcolor": "white",
            "linecolor": "white",
            "ticks": ""
           }
          },
          "scene": {
           "xaxis": {
            "backgroundcolor": "#E5ECF6",
            "gridcolor": "white",
            "gridwidth": 2,
            "linecolor": "white",
            "showbackground": true,
            "ticks": "",
            "zerolinecolor": "white"
           },
           "yaxis": {
            "backgroundcolor": "#E5ECF6",
            "gridcolor": "white",
            "gridwidth": 2,
            "linecolor": "white",
            "showbackground": true,
            "ticks": "",
            "zerolinecolor": "white"
           },
           "zaxis": {
            "backgroundcolor": "#E5ECF6",
            "gridcolor": "white",
            "gridwidth": 2,
            "linecolor": "white",
            "showbackground": true,
            "ticks": "",
            "zerolinecolor": "white"
           }
          },
          "shapedefaults": {
           "line": {
            "color": "#2a3f5f"
           }
          },
          "ternary": {
           "aaxis": {
            "gridcolor": "white",
            "linecolor": "white",
            "ticks": ""
           },
           "baxis": {
            "gridcolor": "white",
            "linecolor": "white",
            "ticks": ""
           },
           "bgcolor": "#E5ECF6",
           "caxis": {
            "gridcolor": "white",
            "linecolor": "white",
            "ticks": ""
           }
          },
          "title": {
           "x": 0.05
          },
          "xaxis": {
           "automargin": true,
           "gridcolor": "white",
           "linecolor": "white",
           "ticks": "",
           "title": {
            "standoff": 15
           },
           "zerolinecolor": "white",
           "zerolinewidth": 2
          },
          "yaxis": {
           "automargin": true,
           "gridcolor": "white",
           "linecolor": "white",
           "ticks": "",
           "title": {
            "standoff": 15
           },
           "zerolinecolor": "white",
           "zerolinewidth": 2
          }
         }
        },
        "title": {
         "font": {
          "color": "#4D5663"
         },
         "text": "Close price"
        },
        "xaxis": {
         "gridcolor": "#E1E5ED",
         "showgrid": true,
         "tickfont": {
          "color": "#4D5663"
         },
         "title": {
          "font": {
           "color": "#4D5663"
          },
          "text": "Close"
         },
         "zerolinecolor": "#E1E5ED"
        },
        "yaxis": {
         "gridcolor": "#E1E5ED",
         "showgrid": true,
         "tickfont": {
          "color": "#4D5663"
         },
         "title": {
          "font": {
           "color": "#4D5663"
          },
          "text": ""
         },
         "zerolinecolor": "#E1E5ED"
        }
       }
      },
      "text/html": [
       "<div>                            <div id=\"e2d76f81-1ab5-4058-a95f-0f1b06e86c6f\" class=\"plotly-graph-div\" style=\"height:525px; width:100%;\"></div>            <script type=\"text/javascript\">                require([\"plotly\"], function(Plotly) {                    window.PLOTLYENV=window.PLOTLYENV || {};\n",
       "                    window.PLOTLYENV.BASE_URL='https://plot.ly';                                    if (document.getElementById(\"e2d76f81-1ab5-4058-a95f-0f1b06e86c6f\")) {                    Plotly.newPlot(                        \"e2d76f81-1ab5-4058-a95f-0f1b06e86c6f\",                        [{\"histfunc\":\"count\",\"histnorm\":\"\",\"marker\":{\"color\":\"rgba(255, 153, 51, 1.0)\",\"line\":{\"color\":\"#4D5663\",\"width\":1.3}},\"name\":\"Close\",\"nbinsx\":30,\"opacity\":0.8,\"orientation\":\"v\",\"type\":\"histogram\",\"x\":[330.209991,366.279999,371.339996,372.720001,419.619995,449.76001,441.76001,423.429993,442.149994,449.390015,424.230011,380.359985,387.790009,407.339996,421.200012,419.070007,429.01001,448.160004,415.089996,425.679993,413.980011,425.299988,425.920013,434.0,442.299988,446.649994,461.299988,448.880005,439.670013,430.829987,421.940002,422.640015,425.790009,420.630005,420.279999,424.679993,406.019989,410.829987,388.040009,400.51001,423.899994,420.980011,438.089996,429.950012,421.26001,410.359985,417.130005,411.76001,408.5,408.089996,441.609985,486.640015,499.269989,489.609985,521.849976,555.380005,574.0,585.76001,567.599976,584.76001,568.820007,593.380005,599.039978,641.76001,649.880005,604.47998,627.070007,609.98999,639.830017,633.25,622.77002,655.900024,695.0,649.859985,640.340027,645.97998,661.77002,663.690002,665.98999,694.780029,705.669983,729.77002,735.109985,755.97998,816.039978,880.02002,811.190002,849.440002,854.409973,845.0,826.159973,844.549988,850.450012,844.98999,846.640015,880.799988,883.090027,864.159973,835.429993,793.530029,839.809998,872.789978,854.690002,849.98999,852.22998,863.419983,849.460022,804.820007,811.659973,816.119995,796.219971,798.150024,787.380005,781.299988,714.5,698.840027,742.02002,682.219971,675.5,718.429993,686.440002,653.200012,621.440002,597.950012,563.0,673.580017,668.059998,699.599976,693.72998,707.940002,676.880005,701.809998,653.159973,654.869995,670.0,662.159973,630.27002,640.390015,618.710022,611.289978,635.619995,667.929993,661.75,691.049988,691.619995,670.969971,683.799988,677.02002,701.97998,762.320007,732.22998,738.849976,739.780029,714.630005,718.98999,744.119995,719.690002,729.400024,738.200012,704.73999,694.400024,677.0,709.440002,684.900024,673.599976,670.940002,663.539978,672.369995,629.039978,617.200012,589.890015,571.690002,589.73999,576.830017,577.869995,563.460022,586.780029,580.880005,606.440002,604.690002,619.130005,630.849976,625.219971,623.900024,605.119995,572.840027,599.049988,605.130005,603.590027,598.780029,610.119995,609.890015,617.690002,599.359985,604.869995,616.599976,623.309998,620.830017,623.710022,656.570007,679.820007,671.869995,688.719971,680.76001,679.700012,677.919983,678.900024,659.580017,644.650024,652.809998,656.950012,685.700012,668.539978,653.380005,650.599976,644.219971,646.219971,660.5,655.289978,649.26001,643.380005,657.619995,644.780029,646.97998,677.349976,687.200012,709.669983,709.73999,710.919983,714.630005,699.099976,713.76001,709.98999,707.820007,722.25,717.169983,686.169983,665.710022,688.98999,673.469971,680.26001,706.299988,708.48999,711.200012,701.159973,711.919983,730.909973,735.719971,734.090027,732.390015,733.570007]}],                        {\"barmode\":\"overlay\",\"legend\":{\"bgcolor\":\"#FFFFFF\",\"font\":{\"color\":\"#4D5663\"}},\"paper_bgcolor\":\"#FFFFFF\",\"plot_bgcolor\":\"#FFFFFF\",\"template\":{\"data\":{\"bar\":[{\"error_x\":{\"color\":\"#2a3f5f\"},\"error_y\":{\"color\":\"#2a3f5f\"},\"marker\":{\"line\":{\"color\":\"#E5ECF6\",\"width\":0.5},\"pattern\":{\"fillmode\":\"overlay\",\"size\":10,\"solidity\":0.2}},\"type\":\"bar\"}],\"barpolar\":[{\"marker\":{\"line\":{\"color\":\"#E5ECF6\",\"width\":0.5},\"pattern\":{\"fillmode\":\"overlay\",\"size\":10,\"solidity\":0.2}},\"type\":\"barpolar\"}],\"carpet\":[{\"aaxis\":{\"endlinecolor\":\"#2a3f5f\",\"gridcolor\":\"white\",\"linecolor\":\"white\",\"minorgridcolor\":\"white\",\"startlinecolor\":\"#2a3f5f\"},\"baxis\":{\"endlinecolor\":\"#2a3f5f\",\"gridcolor\":\"white\",\"linecolor\":\"white\",\"minorgridcolor\":\"white\",\"startlinecolor\":\"#2a3f5f\"},\"type\":\"carpet\"}],\"choropleth\":[{\"colorbar\":{\"outlinewidth\":0,\"ticks\":\"\"},\"type\":\"choropleth\"}],\"contour\":[{\"colorbar\":{\"outlinewidth\":0,\"ticks\":\"\"},\"colorscale\":[[0.0,\"#0d0887\"],[0.1111111111111111,\"#46039f\"],[0.2222222222222222,\"#7201a8\"],[0.3333333333333333,\"#9c179e\"],[0.4444444444444444,\"#bd3786\"],[0.5555555555555556,\"#d8576b\"],[0.6666666666666666,\"#ed7953\"],[0.7777777777777778,\"#fb9f3a\"],[0.8888888888888888,\"#fdca26\"],[1.0,\"#f0f921\"]],\"type\":\"contour\"}],\"contourcarpet\":[{\"colorbar\":{\"outlinewidth\":0,\"ticks\":\"\"},\"type\":\"contourcarpet\"}],\"heatmap\":[{\"colorbar\":{\"outlinewidth\":0,\"ticks\":\"\"},\"colorscale\":[[0.0,\"#0d0887\"],[0.1111111111111111,\"#46039f\"],[0.2222222222222222,\"#7201a8\"],[0.3333333333333333,\"#9c179e\"],[0.4444444444444444,\"#bd3786\"],[0.5555555555555556,\"#d8576b\"],[0.6666666666666666,\"#ed7953\"],[0.7777777777777778,\"#fb9f3a\"],[0.8888888888888888,\"#fdca26\"],[1.0,\"#f0f921\"]],\"type\":\"heatmap\"}],\"heatmapgl\":[{\"colorbar\":{\"outlinewidth\":0,\"ticks\":\"\"},\"colorscale\":[[0.0,\"#0d0887\"],[0.1111111111111111,\"#46039f\"],[0.2222222222222222,\"#7201a8\"],[0.3333333333333333,\"#9c179e\"],[0.4444444444444444,\"#bd3786\"],[0.5555555555555556,\"#d8576b\"],[0.6666666666666666,\"#ed7953\"],[0.7777777777777778,\"#fb9f3a\"],[0.8888888888888888,\"#fdca26\"],[1.0,\"#f0f921\"]],\"type\":\"heatmapgl\"}],\"histogram\":[{\"marker\":{\"pattern\":{\"fillmode\":\"overlay\",\"size\":10,\"solidity\":0.2}},\"type\":\"histogram\"}],\"histogram2d\":[{\"colorbar\":{\"outlinewidth\":0,\"ticks\":\"\"},\"colorscale\":[[0.0,\"#0d0887\"],[0.1111111111111111,\"#46039f\"],[0.2222222222222222,\"#7201a8\"],[0.3333333333333333,\"#9c179e\"],[0.4444444444444444,\"#bd3786\"],[0.5555555555555556,\"#d8576b\"],[0.6666666666666666,\"#ed7953\"],[0.7777777777777778,\"#fb9f3a\"],[0.8888888888888888,\"#fdca26\"],[1.0,\"#f0f921\"]],\"type\":\"histogram2d\"}],\"histogram2dcontour\":[{\"colorbar\":{\"outlinewidth\":0,\"ticks\":\"\"},\"colorscale\":[[0.0,\"#0d0887\"],[0.1111111111111111,\"#46039f\"],[0.2222222222222222,\"#7201a8\"],[0.3333333333333333,\"#9c179e\"],[0.4444444444444444,\"#bd3786\"],[0.5555555555555556,\"#d8576b\"],[0.6666666666666666,\"#ed7953\"],[0.7777777777777778,\"#fb9f3a\"],[0.8888888888888888,\"#fdca26\"],[1.0,\"#f0f921\"]],\"type\":\"histogram2dcontour\"}],\"mesh3d\":[{\"colorbar\":{\"outlinewidth\":0,\"ticks\":\"\"},\"type\":\"mesh3d\"}],\"parcoords\":[{\"line\":{\"colorbar\":{\"outlinewidth\":0,\"ticks\":\"\"}},\"type\":\"parcoords\"}],\"pie\":[{\"automargin\":true,\"type\":\"pie\"}],\"scatter\":[{\"marker\":{\"colorbar\":{\"outlinewidth\":0,\"ticks\":\"\"}},\"type\":\"scatter\"}],\"scatter3d\":[{\"line\":{\"colorbar\":{\"outlinewidth\":0,\"ticks\":\"\"}},\"marker\":{\"colorbar\":{\"outlinewidth\":0,\"ticks\":\"\"}},\"type\":\"scatter3d\"}],\"scattercarpet\":[{\"marker\":{\"colorbar\":{\"outlinewidth\":0,\"ticks\":\"\"}},\"type\":\"scattercarpet\"}],\"scattergeo\":[{\"marker\":{\"colorbar\":{\"outlinewidth\":0,\"ticks\":\"\"}},\"type\":\"scattergeo\"}],\"scattergl\":[{\"marker\":{\"colorbar\":{\"outlinewidth\":0,\"ticks\":\"\"}},\"type\":\"scattergl\"}],\"scattermapbox\":[{\"marker\":{\"colorbar\":{\"outlinewidth\":0,\"ticks\":\"\"}},\"type\":\"scattermapbox\"}],\"scatterpolar\":[{\"marker\":{\"colorbar\":{\"outlinewidth\":0,\"ticks\":\"\"}},\"type\":\"scatterpolar\"}],\"scatterpolargl\":[{\"marker\":{\"colorbar\":{\"outlinewidth\":0,\"ticks\":\"\"}},\"type\":\"scatterpolargl\"}],\"scatterternary\":[{\"marker\":{\"colorbar\":{\"outlinewidth\":0,\"ticks\":\"\"}},\"type\":\"scatterternary\"}],\"surface\":[{\"colorbar\":{\"outlinewidth\":0,\"ticks\":\"\"},\"colorscale\":[[0.0,\"#0d0887\"],[0.1111111111111111,\"#46039f\"],[0.2222222222222222,\"#7201a8\"],[0.3333333333333333,\"#9c179e\"],[0.4444444444444444,\"#bd3786\"],[0.5555555555555556,\"#d8576b\"],[0.6666666666666666,\"#ed7953\"],[0.7777777777777778,\"#fb9f3a\"],[0.8888888888888888,\"#fdca26\"],[1.0,\"#f0f921\"]],\"type\":\"surface\"}],\"table\":[{\"cells\":{\"fill\":{\"color\":\"#EBF0F8\"},\"line\":{\"color\":\"white\"}},\"header\":{\"fill\":{\"color\":\"#C8D4E3\"},\"line\":{\"color\":\"white\"}},\"type\":\"table\"}]},\"layout\":{\"annotationdefaults\":{\"arrowcolor\":\"#2a3f5f\",\"arrowhead\":0,\"arrowwidth\":1},\"autotypenumbers\":\"strict\",\"coloraxis\":{\"colorbar\":{\"outlinewidth\":0,\"ticks\":\"\"}},\"colorscale\":{\"diverging\":[[0,\"#8e0152\"],[0.1,\"#c51b7d\"],[0.2,\"#de77ae\"],[0.3,\"#f1b6da\"],[0.4,\"#fde0ef\"],[0.5,\"#f7f7f7\"],[0.6,\"#e6f5d0\"],[0.7,\"#b8e186\"],[0.8,\"#7fbc41\"],[0.9,\"#4d9221\"],[1,\"#276419\"]],\"sequential\":[[0.0,\"#0d0887\"],[0.1111111111111111,\"#46039f\"],[0.2222222222222222,\"#7201a8\"],[0.3333333333333333,\"#9c179e\"],[0.4444444444444444,\"#bd3786\"],[0.5555555555555556,\"#d8576b\"],[0.6666666666666666,\"#ed7953\"],[0.7777777777777778,\"#fb9f3a\"],[0.8888888888888888,\"#fdca26\"],[1.0,\"#f0f921\"]],\"sequentialminus\":[[0.0,\"#0d0887\"],[0.1111111111111111,\"#46039f\"],[0.2222222222222222,\"#7201a8\"],[0.3333333333333333,\"#9c179e\"],[0.4444444444444444,\"#bd3786\"],[0.5555555555555556,\"#d8576b\"],[0.6666666666666666,\"#ed7953\"],[0.7777777777777778,\"#fb9f3a\"],[0.8888888888888888,\"#fdca26\"],[1.0,\"#f0f921\"]]},\"colorway\":[\"#636efa\",\"#EF553B\",\"#00cc96\",\"#ab63fa\",\"#FFA15A\",\"#19d3f3\",\"#FF6692\",\"#B6E880\",\"#FF97FF\",\"#FECB52\"],\"font\":{\"color\":\"#2a3f5f\"},\"geo\":{\"bgcolor\":\"white\",\"lakecolor\":\"white\",\"landcolor\":\"#E5ECF6\",\"showlakes\":true,\"showland\":true,\"subunitcolor\":\"white\"},\"hoverlabel\":{\"align\":\"left\"},\"hovermode\":\"closest\",\"mapbox\":{\"style\":\"light\"},\"paper_bgcolor\":\"white\",\"plot_bgcolor\":\"#E5ECF6\",\"polar\":{\"angularaxis\":{\"gridcolor\":\"white\",\"linecolor\":\"white\",\"ticks\":\"\"},\"bgcolor\":\"#E5ECF6\",\"radialaxis\":{\"gridcolor\":\"white\",\"linecolor\":\"white\",\"ticks\":\"\"}},\"scene\":{\"xaxis\":{\"backgroundcolor\":\"#E5ECF6\",\"gridcolor\":\"white\",\"gridwidth\":2,\"linecolor\":\"white\",\"showbackground\":true,\"ticks\":\"\",\"zerolinecolor\":\"white\"},\"yaxis\":{\"backgroundcolor\":\"#E5ECF6\",\"gridcolor\":\"white\",\"gridwidth\":2,\"linecolor\":\"white\",\"showbackground\":true,\"ticks\":\"\",\"zerolinecolor\":\"white\"},\"zaxis\":{\"backgroundcolor\":\"#E5ECF6\",\"gridcolor\":\"white\",\"gridwidth\":2,\"linecolor\":\"white\",\"showbackground\":true,\"ticks\":\"\",\"zerolinecolor\":\"white\"}},\"shapedefaults\":{\"line\":{\"color\":\"#2a3f5f\"}},\"ternary\":{\"aaxis\":{\"gridcolor\":\"white\",\"linecolor\":\"white\",\"ticks\":\"\"},\"baxis\":{\"gridcolor\":\"white\",\"linecolor\":\"white\",\"ticks\":\"\"},\"bgcolor\":\"#E5ECF6\",\"caxis\":{\"gridcolor\":\"white\",\"linecolor\":\"white\",\"ticks\":\"\"}},\"title\":{\"x\":0.05},\"xaxis\":{\"automargin\":true,\"gridcolor\":\"white\",\"linecolor\":\"white\",\"ticks\":\"\",\"title\":{\"standoff\":15},\"zerolinecolor\":\"white\",\"zerolinewidth\":2},\"yaxis\":{\"automargin\":true,\"gridcolor\":\"white\",\"linecolor\":\"white\",\"ticks\":\"\",\"title\":{\"standoff\":15},\"zerolinecolor\":\"white\",\"zerolinewidth\":2}}},\"title\":{\"font\":{\"color\":\"#4D5663\"},\"text\":\"Close price\"},\"xaxis\":{\"gridcolor\":\"#E1E5ED\",\"showgrid\":true,\"tickfont\":{\"color\":\"#4D5663\"},\"title\":{\"font\":{\"color\":\"#4D5663\"},\"text\":\"Close\"},\"zerolinecolor\":\"#E1E5ED\"},\"yaxis\":{\"gridcolor\":\"#E1E5ED\",\"showgrid\":true,\"tickfont\":{\"color\":\"#4D5663\"},\"title\":{\"font\":{\"color\":\"#4D5663\"},\"text\":\"\"},\"zerolinecolor\":\"#E1E5ED\"}},                        {\"showLink\": true, \"linkText\": \"Export to plot.ly\", \"plotlyServerURL\": \"https://plot.ly\", \"responsive\": true}                    ).then(function(){\n",
       "                            \n",
       "var gd = document.getElementById('e2d76f81-1ab5-4058-a95f-0f1b06e86c6f');\n",
       "var x = new MutationObserver(function (mutations, observer) {{\n",
       "        var display = window.getComputedStyle(gd).display;\n",
       "        if (!display || display === 'none') {{\n",
       "            console.log([gd, 'removed!']);\n",
       "            Plotly.purge(gd);\n",
       "            observer.disconnect();\n",
       "        }}\n",
       "}});\n",
       "\n",
       "// Listen for the removal of the full notebook cells\n",
       "var notebookContainer = gd.closest('#notebook-container');\n",
       "if (notebookContainer) {{\n",
       "    x.observe(notebookContainer, {childList: true});\n",
       "}}\n",
       "\n",
       "// Listen for the clearing of the current output cell\n",
       "var outputEl = gd.closest('.output');\n",
       "if (outputEl) {{\n",
       "    x.observe(outputEl, {childList: true});\n",
       "}}\n",
       "\n",
       "                        })                };                });            </script>        </div>"
      ]
     },
     "metadata": {},
     "output_type": "display_data"
    },
    {
     "data": {
      "text/plain": [
       "<Figure size 900x360 with 0 Axes>"
      ]
     },
     "metadata": {},
     "output_type": "display_data"
    }
   ],
   "source": [
    "#histogram of close price in terms of its frequency\n",
    "plt.figure(figsize=(12.5,5))\n",
    "df[\"Close\"].iplot(kind=\"histogram\", bins=30, theme=\"white\", title=\"Close price\",xTitle='Close');"
   ]
  },
  {
   "cell_type": "code",
   "execution_count": 13,
   "id": "f5ff6309",
   "metadata": {},
   "outputs": [
    {
     "data": {
      "application/vnd.plotly.v1+json": {
       "config": {
        "linkText": "Export to plot.ly",
        "plotlyServerURL": "https://plot.ly",
        "showLink": true
       },
       "data": [
        {
         "histfunc": "count",
         "histnorm": "",
         "marker": {
          "color": "rgba(255, 153, 51, 1.0)",
          "line": {
           "color": "#4D5663",
           "width": 1.3
          }
         },
         "name": "Signal",
         "nbinsx": 50,
         "opacity": 0.8,
         "orientation": "v",
         "type": "histogram",
         "x": [
          0,
          0.5754759111111071,
          1.5608992471541638,
          2.770071736200392,
          4.798047498389883,
          7.702854064193394,
          10.85977474034717,
          13.69202831918913,
          16.439775219071997,
          19.068554270225224,
          21.040087375287502,
          21.748445173303097,
          21.696908461995626,
          21.434243214697794,
          21.225291521988694,
          20.97860031913082,
          20.831959151727485,
          21.013761301585802,
          20.81638771468886,
          20.513213230187905,
          19.9261975583872,
          19.3272358475793,
          18.718026610330444,
          18.220579481514932,
          17.910152752244507,
          17.76180081248036,
          17.916060425801835,
          18.012916653519554,
          17.880721063728302,
          17.43009891139917,
          16.621954276777753,
          15.605369256262621,
          14.52611742798638,
          13.348730612788327,
          12.1355466528228,
          11.006062812778252,
          9.665455486663085,
          8.317508081561181,
          6.6530636155234975,
          5.061285757681837,
          3.9601353875360985,
          3.1686123706489076,
          2.878408633907264,
          2.7812059030942304,
          2.6650851541295637,
          2.3632163985104455,
          2.063374316739203,
          1.6901427509159046,
          1.2346137609301262,
          0.742026613369554,
          0.7851349813587437,
          1.878385456085419,
          3.769757300562544,
          5.899515558618781,
          8.567968392721394,
          11.949603740409575,
          15.870812739377065,
          20.07611109307089,
          23.903532207611917,
          27.512764785152218,
          30.479018484644,
          33.20914213505021,
          35.66275766330732,
          38.414731198620316,
          41.251441587334,
          43.174207085238436,
          44.685343023007064,
          45.4849126527893,
          46.16898243109795,
          46.53459029376572,
          46.40816292466968,
          46.402761209885874,
          46.991555199184106,
          47.0946281552505,
          46.62863376936012,
          45.814093261687425,
          44.97129163703385,
          44.08309106664869,
          43.149216941792915,
          42.59665320656785,
          42.38871020718789,
          42.69555909415771,
          43.296868243809506,
          44.28550402263909,
          46.322369276313474,
          49.82465476809959,
          52.85013847846471,
          55.90797146812863,
          58.77765110981939,
          61.09486974966098,
          62.50451491263753,
          63.422356190032346,
          63.93340862160357,
          63.929874839729266,
          63.48460970388543,
          63.18612559842084,
          62.88781030248686,
          62.1598869977208,
          60.60080765097884,
          57.79589436185674,
          54.96379602460568,
          52.664024610424015,
          50.40965670566651,
          48.1120447808415,
          45.83385360580924,
          43.76132686522246,
          41.60388794375995,
          38.699295181862226,
          35.499588560641655,
          32.27289050104764,
          28.807373868956574,
          25.33897352685399,
          21.821002999197766,
          18.309643067802842,
          13.879011645413373,
          8.822980884097491,
          4.308809631434385,
          -0.5929897669624449,
          -5.58664822210386,
          -9.67845025995614,
          -13.478809620007716,
          -17.39688093152053,
          -21.650401440880653,
          -26.216621861925944,
          -31.23732175457794,
          -34.444251428212915,
          -36.35579577728605,
          -36.76914724644929,
          -36.2316399098862,
          -34.817037879890215,
          -33.34303470371982,
          -31.43533072333345,
          -30.06033173363916,
          -28.995505652137822,
          -27.873432867446642,
          -26.83585372789103,
          -26.353246417154047,
          -26.022260780844245,
          -26.09024111677777,
          -26.463639484674033,
          -26.560406599791882,
          -25.902690225994498,
          -24.846117505575226,
          -23.07084311847346,
          -20.876486020140177,
          -18.81636516033194,
          -16.700794183622612,
          -14.731475815763208,
          -12.525263075433637,
          -9.294985351680369,
          -6.051063686851627,
          -2.8492322301332993,
          0.17970503284196626,
          2.539830140009588,
          4.420807314523145,
          6.293718554431132,
          7.659282192996985,
          8.772725758060645,
          9.790180646274997,
          10.137986114070515,
          9.85976112149326,
          8.903657767902414,
          8.07006195638778,
          6.947035648643878,
          5.505351442247947,
          3.8845279655968317,
          2.1094730238225683,
          0.4668699492349062,
          -1.6989760991588343,
          -4.26427091013822,
          -7.371451389831905,
          -10.928961322456974,
          -14.269352152593834,
          -17.471996467790504,
          -20.364001573127634,
          -23.093189377707517,
          -25.15256677638131,
          -26.72096767233133,
          -27.43071852719142,
          -27.530477930225395,
          -26.9495476137102,
          -25.724018732614113,
          -24.18990540769545,
          -22.508723383094097,
          -21.071814347142325,
          -20.330317143346434,
          -19.599059587155832,
          -18.77088043164142,
          -17.907154031297686,
          -17.1023519542555,
          -16.156769302229,
          -15.139361769458805,
          -13.971320072084033,
          -13.030695725595338,
          -12.164312668536423,
          -11.175009919710043,
          -10.02799978414234,
          -8.858980688984959,
          -7.671308510323276,
          -5.992458345644983,
          -3.709157239171571,
          -1.2850762881763416,
          1.3719288876822135,
          3.9055184211589546,
          6.203125355556207,
          8.189841115951069,
          9.874519065620722,
          10.95082651077194,
          11.326238827736706,
          11.347036752976773,
          11.184668299281721,
          11.349203667646018,
          11.410365351511844,
          11.135653170266552,
          10.595088478691494,
          9.790292275063656,
          8.871664400994502,
          8.137454237081975,
          7.455652268784246,
          6.7292423706771025,
          5.903803343426265,
          5.273300415933434,
          4.5811585878134675,
          3.911323455503184,
          3.766204443843143,
          4.106142339312822,
          5.081420935695414,
          6.3933283938411325,
          7.851710354673244,
          9.366744501909796,
          10.56874530070842,
          11.721335965048949,
          12.695672844270733,
          13.443650537226894,
          14.210121762494698,
          14.834568241191679,
          14.808863967619235,
          14.016826133819931,
          13.125456313652967,
          11.94102579901094,
          10.71611541669284,
          9.921073309624193,
          9.449469800496413,
          9.227013138874437,
          8.991165252506104,
          8.910464532698958,
          9.213902964634705,
          9.797945991055094,
          10.47891373516107,
          11.13392829753244,
          11.731788571108137
         ]
        },
        {
         "histfunc": "count",
         "histnorm": "",
         "marker": {
          "color": "rgba(55, 128, 191, 1.0)",
          "line": {
           "color": "#4D5663",
           "width": 1.3
          }
         },
         "name": "MACD",
         "nbinsx": 50,
         "opacity": 0.8,
         "orientation": "v",
         "type": "histogram",
         "x": [
          0,
          2.8773795555555353,
          5.5025925913263904,
          7.606761692385305,
          12.909950547147844,
          19.322080327407434,
          23.487457444962274,
          25.021042634556977,
          27.430762818603455,
          29.58367047483813,
          28.92621979553661,
          24.581876365365474,
          21.490761616765724,
          20.383582225506473,
          20.38948475115228,
          19.991835507699307,
          20.245394482114136,
          21.74096990101907,
          20.02689336710108,
          19.30051529218406,
          17.578134871184375,
          16.931389004347693,
          16.28118966133502,
          16.23079096625287,
          16.6684458351628,
          17.168393053423756,
          18.53309887908773,
          18.40034156439043,
          17.35193870456328,
          15.627610302082644,
          13.389375738292074,
          11.539029174202085,
          10.209110114881412,
          8.63918335199611,
          7.28281081296069,
          6.488127452600054,
          4.303026182202416,
          2.925718461153565,
          -0.004714248627237794,
          -1.305825673684808,
          -0.4444660930468558,
          0.0025203031001410636,
          1.7175936869406883,
          2.392394979842095,
          2.200602158270897,
          1.1557413760339728,
          0.8640059896542311,
          0.19721648762271116,
          -0.5875021990129881,
          -1.228321976872735,
          0.9575684533155027,
          6.251387354992119,
          11.335244678471042,
          14.418548590843727,
          19.24177972913185,
          25.476145131162298,
          31.55564873524702,
          36.89730450784617,
          39.21321666577603,
          41.949695095313416,
          42.34403328261112,
          44.129636736675025,
          45.477219776335744,
          49.4226253398723,
          52.598283142188734,
          50.86526907685618,
          50.72988677408159,
          48.683191171918224,
          48.905261544332575,
          47.99702174443678,
          45.90245344828554,
          46.38115435075065,
          49.34673115637702,
          47.506919979516056,
          44.7646562257986,
          42.555931230996634,
          41.60008513841956,
          40.53028878510804,
          39.41372044236982,
          40.386398265667594,
          41.55693820966803,
          43.922954642036984,
          45.7021048424167,
          48.24004713795739,
          54.46983029101102,
          63.83379673524405,
          64.95207331992515,
          68.1393034267843,
          70.25636967658238,
          70.36374430902731,
          68.14309556454373,
          67.09372129961162,
          65.97761834788844,
          63.91573971223204,
          61.70354916051008,
          61.99218917656242,
          61.694549118750956,
          59.248193778656514,
          54.36449026401101,
          46.57624120536832,
          43.635402675601426,
          43.464938953697356,
          41.39218508663646,
          38.92159708154145,
          36.721088905680176,
          35.471219902875305,
          32.9741322579099,
          27.0809241342713,
          22.70076207575937,
          19.366098262671585,
          14.945307340592308,
          11.465372158443643,
          7.749120888572861,
          4.264203342223141,
          -3.843514044144513,
          -11.401142161166035,
          -13.747875379218044,
          -20.200187360549762,
          -25.561282042669518,
          -26.045658411365253,
          -28.680247060214015,
          -33.06916617757179,
          -38.66448347832113,
          -44.48150354610709,
          -51.32012132518594,
          -47.271970122752805,
          -44.00197317357856,
          -38.42255312310226,
          -34.08161056363383,
          -29.158629759906262,
          -27.44702199903827,
          -23.804514801787946,
          -24.560335774861983,
          -24.73620132613246,
          -23.3851417286819,
          -22.685537169668578,
          -24.422817174206102,
          -24.69831823560503,
          -26.362162460511854,
          -27.957232956259077,
          -26.947475060263287,
          -23.27182473080495,
          -20.61982662389812,
          -15.96974557006638,
          -12.099057626807053,
          -10.575881721098995,
          -8.238510276785291,
          -6.854202344325586,
          -3.700412114115352,
          3.626125543332705,
          6.9246229724633395,
          9.958093596740014,
          12.295454084743028,
          11.980330568680074,
          11.944716012577373,
          13.785363514063079,
          13.121536747260393,
          13.226500018315278,
          13.8600001991324,
          11.529207985252583,
          8.746861151184248,
          5.079244353539025,
          4.735678710329239,
          2.4549304176682654,
          -0.261385383335778,
          -2.5987659410076276,
          -4.990746743274485,
          -6.103542349115742,
          -10.362360292733797,
          -14.525450154055761,
          -19.800173308606645,
          -25.15900105295725,
          -27.630915473141272,
          -30.282573728577177,
          -31.932021994476145,
          -34.009940596027036,
          -33.390076371076475,
          -32.994571256131394,
          -30.269721946631762,
          -27.929515542361287,
          -24.625826347649422,
          -20.82190320822974,
          -18.053452108020792,
          -15.783995284688672,
          -15.324178203335237,
          -17.364328328162856,
          -16.674029362393412,
          -15.458163809583766,
          -14.452248429922747,
          -13.88314364608675,
          -12.374438694123,
          -11.069731638378016,
          -9.299153282584939,
          -9.268198339640549,
          -8.698780440300766,
          -7.217798924404519,
          -5.43995924187152,
          -4.1829043083554325,
          -2.9206197956765436,
          0.722942313068188,
          5.424047186722078,
          8.411247515804575,
          11.999949591116433,
          14.039876555065916,
          15.393553093145215,
          16.136704157530517,
          16.61323086429934,
          15.256056291376808,
          12.827888095595767,
          11.430228453937048,
          10.535194484501517,
          12.007345141103201,
          11.655012086975148,
          10.036804445285384,
          8.432829712391253,
          6.571107460552298,
          5.197152904717882,
          5.200613581431867,
          4.728444395593328,
          3.823602778248528,
          2.602047234422912,
          2.7512887059621107,
          1.8125912753336024,
          1.2319829262620487,
          3.185728397202979,
          5.465893921191537,
          8.982535321225782,
          11.640958226424004,
          13.685238198001684,
          15.426881090856,
          15.376748495902916,
          16.331698622411068,
          16.59302036115787,
          16.435561309051536,
          17.27600666356591,
          17.3323541559796,
          14.706046873329456,
          10.84867479862271,
          9.559977032985103,
          7.203303740442834,
          5.816473887420443,
          6.740904881349593,
          7.56305576398529,
          8.337186492386536,
          8.047773707032775,
          8.587661653470377,
          10.427656692377695,
          12.134118096736643,
          13.202784711584968,
          13.753986547017917,
          14.123229665410918
         ]
        }
       ],
       "layout": {
        "barmode": "overlay",
        "legend": {
         "bgcolor": "#FFFFFF",
         "font": {
          "color": "#4D5663"
         }
        },
        "paper_bgcolor": "#FFFFFF",
        "plot_bgcolor": "#FFFFFF",
        "template": {
         "data": {
          "bar": [
           {
            "error_x": {
             "color": "#2a3f5f"
            },
            "error_y": {
             "color": "#2a3f5f"
            },
            "marker": {
             "line": {
              "color": "#E5ECF6",
              "width": 0.5
             },
             "pattern": {
              "fillmode": "overlay",
              "size": 10,
              "solidity": 0.2
             }
            },
            "type": "bar"
           }
          ],
          "barpolar": [
           {
            "marker": {
             "line": {
              "color": "#E5ECF6",
              "width": 0.5
             },
             "pattern": {
              "fillmode": "overlay",
              "size": 10,
              "solidity": 0.2
             }
            },
            "type": "barpolar"
           }
          ],
          "carpet": [
           {
            "aaxis": {
             "endlinecolor": "#2a3f5f",
             "gridcolor": "white",
             "linecolor": "white",
             "minorgridcolor": "white",
             "startlinecolor": "#2a3f5f"
            },
            "baxis": {
             "endlinecolor": "#2a3f5f",
             "gridcolor": "white",
             "linecolor": "white",
             "minorgridcolor": "white",
             "startlinecolor": "#2a3f5f"
            },
            "type": "carpet"
           }
          ],
          "choropleth": [
           {
            "colorbar": {
             "outlinewidth": 0,
             "ticks": ""
            },
            "type": "choropleth"
           }
          ],
          "contour": [
           {
            "colorbar": {
             "outlinewidth": 0,
             "ticks": ""
            },
            "colorscale": [
             [
              0,
              "#0d0887"
             ],
             [
              0.1111111111111111,
              "#46039f"
             ],
             [
              0.2222222222222222,
              "#7201a8"
             ],
             [
              0.3333333333333333,
              "#9c179e"
             ],
             [
              0.4444444444444444,
              "#bd3786"
             ],
             [
              0.5555555555555556,
              "#d8576b"
             ],
             [
              0.6666666666666666,
              "#ed7953"
             ],
             [
              0.7777777777777778,
              "#fb9f3a"
             ],
             [
              0.8888888888888888,
              "#fdca26"
             ],
             [
              1,
              "#f0f921"
             ]
            ],
            "type": "contour"
           }
          ],
          "contourcarpet": [
           {
            "colorbar": {
             "outlinewidth": 0,
             "ticks": ""
            },
            "type": "contourcarpet"
           }
          ],
          "heatmap": [
           {
            "colorbar": {
             "outlinewidth": 0,
             "ticks": ""
            },
            "colorscale": [
             [
              0,
              "#0d0887"
             ],
             [
              0.1111111111111111,
              "#46039f"
             ],
             [
              0.2222222222222222,
              "#7201a8"
             ],
             [
              0.3333333333333333,
              "#9c179e"
             ],
             [
              0.4444444444444444,
              "#bd3786"
             ],
             [
              0.5555555555555556,
              "#d8576b"
             ],
             [
              0.6666666666666666,
              "#ed7953"
             ],
             [
              0.7777777777777778,
              "#fb9f3a"
             ],
             [
              0.8888888888888888,
              "#fdca26"
             ],
             [
              1,
              "#f0f921"
             ]
            ],
            "type": "heatmap"
           }
          ],
          "heatmapgl": [
           {
            "colorbar": {
             "outlinewidth": 0,
             "ticks": ""
            },
            "colorscale": [
             [
              0,
              "#0d0887"
             ],
             [
              0.1111111111111111,
              "#46039f"
             ],
             [
              0.2222222222222222,
              "#7201a8"
             ],
             [
              0.3333333333333333,
              "#9c179e"
             ],
             [
              0.4444444444444444,
              "#bd3786"
             ],
             [
              0.5555555555555556,
              "#d8576b"
             ],
             [
              0.6666666666666666,
              "#ed7953"
             ],
             [
              0.7777777777777778,
              "#fb9f3a"
             ],
             [
              0.8888888888888888,
              "#fdca26"
             ],
             [
              1,
              "#f0f921"
             ]
            ],
            "type": "heatmapgl"
           }
          ],
          "histogram": [
           {
            "marker": {
             "pattern": {
              "fillmode": "overlay",
              "size": 10,
              "solidity": 0.2
             }
            },
            "type": "histogram"
           }
          ],
          "histogram2d": [
           {
            "colorbar": {
             "outlinewidth": 0,
             "ticks": ""
            },
            "colorscale": [
             [
              0,
              "#0d0887"
             ],
             [
              0.1111111111111111,
              "#46039f"
             ],
             [
              0.2222222222222222,
              "#7201a8"
             ],
             [
              0.3333333333333333,
              "#9c179e"
             ],
             [
              0.4444444444444444,
              "#bd3786"
             ],
             [
              0.5555555555555556,
              "#d8576b"
             ],
             [
              0.6666666666666666,
              "#ed7953"
             ],
             [
              0.7777777777777778,
              "#fb9f3a"
             ],
             [
              0.8888888888888888,
              "#fdca26"
             ],
             [
              1,
              "#f0f921"
             ]
            ],
            "type": "histogram2d"
           }
          ],
          "histogram2dcontour": [
           {
            "colorbar": {
             "outlinewidth": 0,
             "ticks": ""
            },
            "colorscale": [
             [
              0,
              "#0d0887"
             ],
             [
              0.1111111111111111,
              "#46039f"
             ],
             [
              0.2222222222222222,
              "#7201a8"
             ],
             [
              0.3333333333333333,
              "#9c179e"
             ],
             [
              0.4444444444444444,
              "#bd3786"
             ],
             [
              0.5555555555555556,
              "#d8576b"
             ],
             [
              0.6666666666666666,
              "#ed7953"
             ],
             [
              0.7777777777777778,
              "#fb9f3a"
             ],
             [
              0.8888888888888888,
              "#fdca26"
             ],
             [
              1,
              "#f0f921"
             ]
            ],
            "type": "histogram2dcontour"
           }
          ],
          "mesh3d": [
           {
            "colorbar": {
             "outlinewidth": 0,
             "ticks": ""
            },
            "type": "mesh3d"
           }
          ],
          "parcoords": [
           {
            "line": {
             "colorbar": {
              "outlinewidth": 0,
              "ticks": ""
             }
            },
            "type": "parcoords"
           }
          ],
          "pie": [
           {
            "automargin": true,
            "type": "pie"
           }
          ],
          "scatter": [
           {
            "marker": {
             "colorbar": {
              "outlinewidth": 0,
              "ticks": ""
             }
            },
            "type": "scatter"
           }
          ],
          "scatter3d": [
           {
            "line": {
             "colorbar": {
              "outlinewidth": 0,
              "ticks": ""
             }
            },
            "marker": {
             "colorbar": {
              "outlinewidth": 0,
              "ticks": ""
             }
            },
            "type": "scatter3d"
           }
          ],
          "scattercarpet": [
           {
            "marker": {
             "colorbar": {
              "outlinewidth": 0,
              "ticks": ""
             }
            },
            "type": "scattercarpet"
           }
          ],
          "scattergeo": [
           {
            "marker": {
             "colorbar": {
              "outlinewidth": 0,
              "ticks": ""
             }
            },
            "type": "scattergeo"
           }
          ],
          "scattergl": [
           {
            "marker": {
             "colorbar": {
              "outlinewidth": 0,
              "ticks": ""
             }
            },
            "type": "scattergl"
           }
          ],
          "scattermapbox": [
           {
            "marker": {
             "colorbar": {
              "outlinewidth": 0,
              "ticks": ""
             }
            },
            "type": "scattermapbox"
           }
          ],
          "scatterpolar": [
           {
            "marker": {
             "colorbar": {
              "outlinewidth": 0,
              "ticks": ""
             }
            },
            "type": "scatterpolar"
           }
          ],
          "scatterpolargl": [
           {
            "marker": {
             "colorbar": {
              "outlinewidth": 0,
              "ticks": ""
             }
            },
            "type": "scatterpolargl"
           }
          ],
          "scatterternary": [
           {
            "marker": {
             "colorbar": {
              "outlinewidth": 0,
              "ticks": ""
             }
            },
            "type": "scatterternary"
           }
          ],
          "surface": [
           {
            "colorbar": {
             "outlinewidth": 0,
             "ticks": ""
            },
            "colorscale": [
             [
              0,
              "#0d0887"
             ],
             [
              0.1111111111111111,
              "#46039f"
             ],
             [
              0.2222222222222222,
              "#7201a8"
             ],
             [
              0.3333333333333333,
              "#9c179e"
             ],
             [
              0.4444444444444444,
              "#bd3786"
             ],
             [
              0.5555555555555556,
              "#d8576b"
             ],
             [
              0.6666666666666666,
              "#ed7953"
             ],
             [
              0.7777777777777778,
              "#fb9f3a"
             ],
             [
              0.8888888888888888,
              "#fdca26"
             ],
             [
              1,
              "#f0f921"
             ]
            ],
            "type": "surface"
           }
          ],
          "table": [
           {
            "cells": {
             "fill": {
              "color": "#EBF0F8"
             },
             "line": {
              "color": "white"
             }
            },
            "header": {
             "fill": {
              "color": "#C8D4E3"
             },
             "line": {
              "color": "white"
             }
            },
            "type": "table"
           }
          ]
         },
         "layout": {
          "annotationdefaults": {
           "arrowcolor": "#2a3f5f",
           "arrowhead": 0,
           "arrowwidth": 1
          },
          "autotypenumbers": "strict",
          "coloraxis": {
           "colorbar": {
            "outlinewidth": 0,
            "ticks": ""
           }
          },
          "colorscale": {
           "diverging": [
            [
             0,
             "#8e0152"
            ],
            [
             0.1,
             "#c51b7d"
            ],
            [
             0.2,
             "#de77ae"
            ],
            [
             0.3,
             "#f1b6da"
            ],
            [
             0.4,
             "#fde0ef"
            ],
            [
             0.5,
             "#f7f7f7"
            ],
            [
             0.6,
             "#e6f5d0"
            ],
            [
             0.7,
             "#b8e186"
            ],
            [
             0.8,
             "#7fbc41"
            ],
            [
             0.9,
             "#4d9221"
            ],
            [
             1,
             "#276419"
            ]
           ],
           "sequential": [
            [
             0,
             "#0d0887"
            ],
            [
             0.1111111111111111,
             "#46039f"
            ],
            [
             0.2222222222222222,
             "#7201a8"
            ],
            [
             0.3333333333333333,
             "#9c179e"
            ],
            [
             0.4444444444444444,
             "#bd3786"
            ],
            [
             0.5555555555555556,
             "#d8576b"
            ],
            [
             0.6666666666666666,
             "#ed7953"
            ],
            [
             0.7777777777777778,
             "#fb9f3a"
            ],
            [
             0.8888888888888888,
             "#fdca26"
            ],
            [
             1,
             "#f0f921"
            ]
           ],
           "sequentialminus": [
            [
             0,
             "#0d0887"
            ],
            [
             0.1111111111111111,
             "#46039f"
            ],
            [
             0.2222222222222222,
             "#7201a8"
            ],
            [
             0.3333333333333333,
             "#9c179e"
            ],
            [
             0.4444444444444444,
             "#bd3786"
            ],
            [
             0.5555555555555556,
             "#d8576b"
            ],
            [
             0.6666666666666666,
             "#ed7953"
            ],
            [
             0.7777777777777778,
             "#fb9f3a"
            ],
            [
             0.8888888888888888,
             "#fdca26"
            ],
            [
             1,
             "#f0f921"
            ]
           ]
          },
          "colorway": [
           "#636efa",
           "#EF553B",
           "#00cc96",
           "#ab63fa",
           "#FFA15A",
           "#19d3f3",
           "#FF6692",
           "#B6E880",
           "#FF97FF",
           "#FECB52"
          ],
          "font": {
           "color": "#2a3f5f"
          },
          "geo": {
           "bgcolor": "white",
           "lakecolor": "white",
           "landcolor": "#E5ECF6",
           "showlakes": true,
           "showland": true,
           "subunitcolor": "white"
          },
          "hoverlabel": {
           "align": "left"
          },
          "hovermode": "closest",
          "mapbox": {
           "style": "light"
          },
          "paper_bgcolor": "white",
          "plot_bgcolor": "#E5ECF6",
          "polar": {
           "angularaxis": {
            "gridcolor": "white",
            "linecolor": "white",
            "ticks": ""
           },
           "bgcolor": "#E5ECF6",
           "radialaxis": {
            "gridcolor": "white",
            "linecolor": "white",
            "ticks": ""
           }
          },
          "scene": {
           "xaxis": {
            "backgroundcolor": "#E5ECF6",
            "gridcolor": "white",
            "gridwidth": 2,
            "linecolor": "white",
            "showbackground": true,
            "ticks": "",
            "zerolinecolor": "white"
           },
           "yaxis": {
            "backgroundcolor": "#E5ECF6",
            "gridcolor": "white",
            "gridwidth": 2,
            "linecolor": "white",
            "showbackground": true,
            "ticks": "",
            "zerolinecolor": "white"
           },
           "zaxis": {
            "backgroundcolor": "#E5ECF6",
            "gridcolor": "white",
            "gridwidth": 2,
            "linecolor": "white",
            "showbackground": true,
            "ticks": "",
            "zerolinecolor": "white"
           }
          },
          "shapedefaults": {
           "line": {
            "color": "#2a3f5f"
           }
          },
          "ternary": {
           "aaxis": {
            "gridcolor": "white",
            "linecolor": "white",
            "ticks": ""
           },
           "baxis": {
            "gridcolor": "white",
            "linecolor": "white",
            "ticks": ""
           },
           "bgcolor": "#E5ECF6",
           "caxis": {
            "gridcolor": "white",
            "linecolor": "white",
            "ticks": ""
           }
          },
          "title": {
           "x": 0.05
          },
          "xaxis": {
           "automargin": true,
           "gridcolor": "white",
           "linecolor": "white",
           "ticks": "",
           "title": {
            "standoff": 15
           },
           "zerolinecolor": "white",
           "zerolinewidth": 2
          },
          "yaxis": {
           "automargin": true,
           "gridcolor": "white",
           "linecolor": "white",
           "ticks": "",
           "title": {
            "standoff": 15
           },
           "zerolinecolor": "white",
           "zerolinewidth": 2
          }
         }
        },
        "title": {
         "font": {
          "color": "#4D5663"
         },
         "text": "Indicator"
        },
        "xaxis": {
         "gridcolor": "#E1E5ED",
         "showgrid": true,
         "tickfont": {
          "color": "#4D5663"
         },
         "title": {
          "font": {
           "color": "#4D5663"
          },
          "text": ""
         },
         "zerolinecolor": "#E1E5ED"
        },
        "yaxis": {
         "gridcolor": "#E1E5ED",
         "showgrid": true,
         "tickfont": {
          "color": "#4D5663"
         },
         "title": {
          "font": {
           "color": "#4D5663"
          },
          "text": "Count"
         },
         "zerolinecolor": "#E1E5ED"
        }
       }
      },
      "text/html": [
       "<div>                            <div id=\"8929c748-144f-4acb-9856-d9898f190631\" class=\"plotly-graph-div\" style=\"height:525px; width:100%;\"></div>            <script type=\"text/javascript\">                require([\"plotly\"], function(Plotly) {                    window.PLOTLYENV=window.PLOTLYENV || {};\n",
       "                    window.PLOTLYENV.BASE_URL='https://plot.ly';                                    if (document.getElementById(\"8929c748-144f-4acb-9856-d9898f190631\")) {                    Plotly.newPlot(                        \"8929c748-144f-4acb-9856-d9898f190631\",                        [{\"histfunc\":\"count\",\"histnorm\":\"\",\"marker\":{\"color\":\"rgba(255, 153, 51, 1.0)\",\"line\":{\"color\":\"#4D5663\",\"width\":1.3}},\"name\":\"Signal\",\"nbinsx\":50,\"opacity\":0.8,\"orientation\":\"v\",\"type\":\"histogram\",\"x\":[0.0,0.5754759111111071,1.5608992471541638,2.770071736200392,4.798047498389883,7.702854064193394,10.85977474034717,13.69202831918913,16.439775219071997,19.068554270225224,21.040087375287502,21.748445173303097,21.696908461995626,21.434243214697794,21.225291521988694,20.97860031913082,20.831959151727485,21.013761301585802,20.81638771468886,20.513213230187905,19.9261975583872,19.3272358475793,18.718026610330444,18.220579481514932,17.910152752244507,17.76180081248036,17.916060425801835,18.012916653519554,17.880721063728302,17.43009891139917,16.621954276777753,15.605369256262621,14.52611742798638,13.348730612788327,12.1355466528228,11.006062812778252,9.665455486663085,8.317508081561181,6.6530636155234975,5.061285757681837,3.9601353875360985,3.1686123706489076,2.878408633907264,2.7812059030942304,2.6650851541295637,2.3632163985104455,2.063374316739203,1.6901427509159046,1.2346137609301262,0.742026613369554,0.7851349813587437,1.878385456085419,3.769757300562544,5.899515558618781,8.567968392721394,11.949603740409575,15.870812739377065,20.07611109307089,23.903532207611917,27.512764785152218,30.479018484644,33.20914213505021,35.66275766330732,38.414731198620316,41.251441587334,43.174207085238436,44.685343023007064,45.4849126527893,46.16898243109795,46.53459029376572,46.40816292466968,46.402761209885874,46.991555199184106,47.0946281552505,46.62863376936012,45.814093261687425,44.97129163703385,44.08309106664869,43.149216941792915,42.59665320656785,42.38871020718789,42.69555909415771,43.296868243809506,44.28550402263909,46.322369276313474,49.82465476809959,52.85013847846471,55.90797146812863,58.77765110981939,61.09486974966098,62.50451491263753,63.422356190032346,63.93340862160357,63.929874839729266,63.48460970388543,63.18612559842084,62.88781030248686,62.1598869977208,60.60080765097884,57.79589436185674,54.96379602460568,52.664024610424015,50.40965670566651,48.1120447808415,45.83385360580924,43.76132686522246,41.60388794375995,38.699295181862226,35.499588560641655,32.27289050104764,28.807373868956574,25.33897352685399,21.821002999197766,18.309643067802842,13.879011645413373,8.822980884097491,4.308809631434385,-0.5929897669624449,-5.58664822210386,-9.67845025995614,-13.478809620007716,-17.39688093152053,-21.650401440880653,-26.216621861925944,-31.23732175457794,-34.444251428212915,-36.35579577728605,-36.76914724644929,-36.2316399098862,-34.817037879890215,-33.34303470371982,-31.43533072333345,-30.06033173363916,-28.995505652137822,-27.873432867446642,-26.83585372789103,-26.353246417154047,-26.022260780844245,-26.09024111677777,-26.463639484674033,-26.560406599791882,-25.902690225994498,-24.846117505575226,-23.07084311847346,-20.876486020140177,-18.81636516033194,-16.700794183622612,-14.731475815763208,-12.525263075433637,-9.294985351680369,-6.051063686851627,-2.8492322301332993,0.17970503284196626,2.539830140009588,4.420807314523145,6.293718554431132,7.659282192996985,8.772725758060645,9.790180646274997,10.137986114070515,9.85976112149326,8.903657767902414,8.07006195638778,6.947035648643878,5.505351442247947,3.8845279655968317,2.1094730238225683,0.4668699492349062,-1.6989760991588343,-4.26427091013822,-7.371451389831905,-10.928961322456974,-14.269352152593834,-17.471996467790504,-20.364001573127634,-23.093189377707517,-25.15256677638131,-26.72096767233133,-27.43071852719142,-27.530477930225395,-26.9495476137102,-25.724018732614113,-24.18990540769545,-22.508723383094097,-21.071814347142325,-20.330317143346434,-19.599059587155832,-18.77088043164142,-17.907154031297686,-17.1023519542555,-16.156769302229,-15.139361769458805,-13.971320072084033,-13.030695725595338,-12.164312668536423,-11.175009919710043,-10.02799978414234,-8.858980688984959,-7.671308510323276,-5.992458345644983,-3.709157239171571,-1.2850762881763416,1.3719288876822135,3.9055184211589546,6.203125355556207,8.189841115951069,9.874519065620722,10.95082651077194,11.326238827736706,11.347036752976773,11.184668299281721,11.349203667646018,11.410365351511844,11.135653170266552,10.595088478691494,9.790292275063656,8.871664400994502,8.137454237081975,7.455652268784246,6.7292423706771025,5.903803343426265,5.273300415933434,4.5811585878134675,3.911323455503184,3.766204443843143,4.106142339312822,5.081420935695414,6.3933283938411325,7.851710354673244,9.366744501909796,10.56874530070842,11.721335965048949,12.695672844270733,13.443650537226894,14.210121762494698,14.834568241191679,14.808863967619235,14.016826133819931,13.125456313652967,11.94102579901094,10.71611541669284,9.921073309624193,9.449469800496413,9.227013138874437,8.991165252506104,8.910464532698958,9.213902964634705,9.797945991055094,10.47891373516107,11.13392829753244,11.731788571108137]},{\"histfunc\":\"count\",\"histnorm\":\"\",\"marker\":{\"color\":\"rgba(55, 128, 191, 1.0)\",\"line\":{\"color\":\"#4D5663\",\"width\":1.3}},\"name\":\"MACD\",\"nbinsx\":50,\"opacity\":0.8,\"orientation\":\"v\",\"type\":\"histogram\",\"x\":[0.0,2.8773795555555353,5.5025925913263904,7.606761692385305,12.909950547147844,19.322080327407434,23.487457444962274,25.021042634556977,27.430762818603455,29.58367047483813,28.92621979553661,24.581876365365474,21.490761616765724,20.383582225506473,20.38948475115228,19.991835507699307,20.245394482114136,21.74096990101907,20.02689336710108,19.30051529218406,17.578134871184375,16.931389004347693,16.28118966133502,16.23079096625287,16.6684458351628,17.168393053423756,18.53309887908773,18.40034156439043,17.35193870456328,15.627610302082644,13.389375738292074,11.539029174202085,10.209110114881412,8.63918335199611,7.28281081296069,6.488127452600054,4.303026182202416,2.925718461153565,-0.004714248627237794,-1.305825673684808,-0.4444660930468558,0.0025203031001410636,1.7175936869406883,2.392394979842095,2.200602158270897,1.1557413760339728,0.8640059896542311,0.19721648762271116,-0.5875021990129881,-1.228321976872735,0.9575684533155027,6.251387354992119,11.335244678471042,14.418548590843727,19.24177972913185,25.476145131162298,31.55564873524702,36.89730450784617,39.21321666577603,41.949695095313416,42.34403328261112,44.129636736675025,45.477219776335744,49.4226253398723,52.598283142188734,50.86526907685618,50.72988677408159,48.683191171918224,48.905261544332575,47.99702174443678,45.90245344828554,46.38115435075065,49.34673115637702,47.506919979516056,44.7646562257986,42.555931230996634,41.60008513841956,40.53028878510804,39.41372044236982,40.386398265667594,41.55693820966803,43.922954642036984,45.7021048424167,48.24004713795739,54.46983029101102,63.83379673524405,64.95207331992515,68.1393034267843,70.25636967658238,70.36374430902731,68.14309556454373,67.09372129961162,65.97761834788844,63.91573971223204,61.70354916051008,61.99218917656242,61.694549118750956,59.248193778656514,54.36449026401101,46.57624120536832,43.635402675601426,43.464938953697356,41.39218508663646,38.92159708154145,36.721088905680176,35.471219902875305,32.9741322579099,27.0809241342713,22.70076207575937,19.366098262671585,14.945307340592308,11.465372158443643,7.749120888572861,4.264203342223141,-3.843514044144513,-11.401142161166035,-13.747875379218044,-20.200187360549762,-25.561282042669518,-26.045658411365253,-28.680247060214015,-33.06916617757179,-38.66448347832113,-44.48150354610709,-51.32012132518594,-47.271970122752805,-44.00197317357856,-38.42255312310226,-34.08161056363383,-29.158629759906262,-27.44702199903827,-23.804514801787946,-24.560335774861983,-24.73620132613246,-23.3851417286819,-22.685537169668578,-24.422817174206102,-24.69831823560503,-26.362162460511854,-27.957232956259077,-26.947475060263287,-23.27182473080495,-20.61982662389812,-15.96974557006638,-12.099057626807053,-10.575881721098995,-8.238510276785291,-6.854202344325586,-3.700412114115352,3.626125543332705,6.9246229724633395,9.958093596740014,12.295454084743028,11.980330568680074,11.944716012577373,13.785363514063079,13.121536747260393,13.226500018315278,13.8600001991324,11.529207985252583,8.746861151184248,5.079244353539025,4.735678710329239,2.4549304176682654,-0.261385383335778,-2.5987659410076276,-4.990746743274485,-6.103542349115742,-10.362360292733797,-14.525450154055761,-19.800173308606645,-25.15900105295725,-27.630915473141272,-30.282573728577177,-31.932021994476145,-34.009940596027036,-33.390076371076475,-32.994571256131394,-30.269721946631762,-27.929515542361287,-24.625826347649422,-20.82190320822974,-18.053452108020792,-15.783995284688672,-15.324178203335237,-17.364328328162856,-16.674029362393412,-15.458163809583766,-14.452248429922747,-13.88314364608675,-12.374438694123,-11.069731638378016,-9.299153282584939,-9.268198339640549,-8.698780440300766,-7.217798924404519,-5.43995924187152,-4.1829043083554325,-2.9206197956765436,0.722942313068188,5.424047186722078,8.411247515804575,11.999949591116433,14.039876555065916,15.393553093145215,16.136704157530517,16.61323086429934,15.256056291376808,12.827888095595767,11.430228453937048,10.535194484501517,12.007345141103201,11.655012086975148,10.036804445285384,8.432829712391253,6.571107460552298,5.197152904717882,5.200613581431867,4.728444395593328,3.823602778248528,2.602047234422912,2.7512887059621107,1.8125912753336024,1.2319829262620487,3.185728397202979,5.465893921191537,8.982535321225782,11.640958226424004,13.685238198001684,15.426881090856,15.376748495902916,16.331698622411068,16.59302036115787,16.435561309051536,17.27600666356591,17.3323541559796,14.706046873329456,10.84867479862271,9.559977032985103,7.203303740442834,5.816473887420443,6.740904881349593,7.56305576398529,8.337186492386536,8.047773707032775,8.587661653470377,10.427656692377695,12.134118096736643,13.202784711584968,13.753986547017917,14.123229665410918]}],                        {\"barmode\":\"overlay\",\"legend\":{\"bgcolor\":\"#FFFFFF\",\"font\":{\"color\":\"#4D5663\"}},\"paper_bgcolor\":\"#FFFFFF\",\"plot_bgcolor\":\"#FFFFFF\",\"template\":{\"data\":{\"bar\":[{\"error_x\":{\"color\":\"#2a3f5f\"},\"error_y\":{\"color\":\"#2a3f5f\"},\"marker\":{\"line\":{\"color\":\"#E5ECF6\",\"width\":0.5},\"pattern\":{\"fillmode\":\"overlay\",\"size\":10,\"solidity\":0.2}},\"type\":\"bar\"}],\"barpolar\":[{\"marker\":{\"line\":{\"color\":\"#E5ECF6\",\"width\":0.5},\"pattern\":{\"fillmode\":\"overlay\",\"size\":10,\"solidity\":0.2}},\"type\":\"barpolar\"}],\"carpet\":[{\"aaxis\":{\"endlinecolor\":\"#2a3f5f\",\"gridcolor\":\"white\",\"linecolor\":\"white\",\"minorgridcolor\":\"white\",\"startlinecolor\":\"#2a3f5f\"},\"baxis\":{\"endlinecolor\":\"#2a3f5f\",\"gridcolor\":\"white\",\"linecolor\":\"white\",\"minorgridcolor\":\"white\",\"startlinecolor\":\"#2a3f5f\"},\"type\":\"carpet\"}],\"choropleth\":[{\"colorbar\":{\"outlinewidth\":0,\"ticks\":\"\"},\"type\":\"choropleth\"}],\"contour\":[{\"colorbar\":{\"outlinewidth\":0,\"ticks\":\"\"},\"colorscale\":[[0.0,\"#0d0887\"],[0.1111111111111111,\"#46039f\"],[0.2222222222222222,\"#7201a8\"],[0.3333333333333333,\"#9c179e\"],[0.4444444444444444,\"#bd3786\"],[0.5555555555555556,\"#d8576b\"],[0.6666666666666666,\"#ed7953\"],[0.7777777777777778,\"#fb9f3a\"],[0.8888888888888888,\"#fdca26\"],[1.0,\"#f0f921\"]],\"type\":\"contour\"}],\"contourcarpet\":[{\"colorbar\":{\"outlinewidth\":0,\"ticks\":\"\"},\"type\":\"contourcarpet\"}],\"heatmap\":[{\"colorbar\":{\"outlinewidth\":0,\"ticks\":\"\"},\"colorscale\":[[0.0,\"#0d0887\"],[0.1111111111111111,\"#46039f\"],[0.2222222222222222,\"#7201a8\"],[0.3333333333333333,\"#9c179e\"],[0.4444444444444444,\"#bd3786\"],[0.5555555555555556,\"#d8576b\"],[0.6666666666666666,\"#ed7953\"],[0.7777777777777778,\"#fb9f3a\"],[0.8888888888888888,\"#fdca26\"],[1.0,\"#f0f921\"]],\"type\":\"heatmap\"}],\"heatmapgl\":[{\"colorbar\":{\"outlinewidth\":0,\"ticks\":\"\"},\"colorscale\":[[0.0,\"#0d0887\"],[0.1111111111111111,\"#46039f\"],[0.2222222222222222,\"#7201a8\"],[0.3333333333333333,\"#9c179e\"],[0.4444444444444444,\"#bd3786\"],[0.5555555555555556,\"#d8576b\"],[0.6666666666666666,\"#ed7953\"],[0.7777777777777778,\"#fb9f3a\"],[0.8888888888888888,\"#fdca26\"],[1.0,\"#f0f921\"]],\"type\":\"heatmapgl\"}],\"histogram\":[{\"marker\":{\"pattern\":{\"fillmode\":\"overlay\",\"size\":10,\"solidity\":0.2}},\"type\":\"histogram\"}],\"histogram2d\":[{\"colorbar\":{\"outlinewidth\":0,\"ticks\":\"\"},\"colorscale\":[[0.0,\"#0d0887\"],[0.1111111111111111,\"#46039f\"],[0.2222222222222222,\"#7201a8\"],[0.3333333333333333,\"#9c179e\"],[0.4444444444444444,\"#bd3786\"],[0.5555555555555556,\"#d8576b\"],[0.6666666666666666,\"#ed7953\"],[0.7777777777777778,\"#fb9f3a\"],[0.8888888888888888,\"#fdca26\"],[1.0,\"#f0f921\"]],\"type\":\"histogram2d\"}],\"histogram2dcontour\":[{\"colorbar\":{\"outlinewidth\":0,\"ticks\":\"\"},\"colorscale\":[[0.0,\"#0d0887\"],[0.1111111111111111,\"#46039f\"],[0.2222222222222222,\"#7201a8\"],[0.3333333333333333,\"#9c179e\"],[0.4444444444444444,\"#bd3786\"],[0.5555555555555556,\"#d8576b\"],[0.6666666666666666,\"#ed7953\"],[0.7777777777777778,\"#fb9f3a\"],[0.8888888888888888,\"#fdca26\"],[1.0,\"#f0f921\"]],\"type\":\"histogram2dcontour\"}],\"mesh3d\":[{\"colorbar\":{\"outlinewidth\":0,\"ticks\":\"\"},\"type\":\"mesh3d\"}],\"parcoords\":[{\"line\":{\"colorbar\":{\"outlinewidth\":0,\"ticks\":\"\"}},\"type\":\"parcoords\"}],\"pie\":[{\"automargin\":true,\"type\":\"pie\"}],\"scatter\":[{\"marker\":{\"colorbar\":{\"outlinewidth\":0,\"ticks\":\"\"}},\"type\":\"scatter\"}],\"scatter3d\":[{\"line\":{\"colorbar\":{\"outlinewidth\":0,\"ticks\":\"\"}},\"marker\":{\"colorbar\":{\"outlinewidth\":0,\"ticks\":\"\"}},\"type\":\"scatter3d\"}],\"scattercarpet\":[{\"marker\":{\"colorbar\":{\"outlinewidth\":0,\"ticks\":\"\"}},\"type\":\"scattercarpet\"}],\"scattergeo\":[{\"marker\":{\"colorbar\":{\"outlinewidth\":0,\"ticks\":\"\"}},\"type\":\"scattergeo\"}],\"scattergl\":[{\"marker\":{\"colorbar\":{\"outlinewidth\":0,\"ticks\":\"\"}},\"type\":\"scattergl\"}],\"scattermapbox\":[{\"marker\":{\"colorbar\":{\"outlinewidth\":0,\"ticks\":\"\"}},\"type\":\"scattermapbox\"}],\"scatterpolar\":[{\"marker\":{\"colorbar\":{\"outlinewidth\":0,\"ticks\":\"\"}},\"type\":\"scatterpolar\"}],\"scatterpolargl\":[{\"marker\":{\"colorbar\":{\"outlinewidth\":0,\"ticks\":\"\"}},\"type\":\"scatterpolargl\"}],\"scatterternary\":[{\"marker\":{\"colorbar\":{\"outlinewidth\":0,\"ticks\":\"\"}},\"type\":\"scatterternary\"}],\"surface\":[{\"colorbar\":{\"outlinewidth\":0,\"ticks\":\"\"},\"colorscale\":[[0.0,\"#0d0887\"],[0.1111111111111111,\"#46039f\"],[0.2222222222222222,\"#7201a8\"],[0.3333333333333333,\"#9c179e\"],[0.4444444444444444,\"#bd3786\"],[0.5555555555555556,\"#d8576b\"],[0.6666666666666666,\"#ed7953\"],[0.7777777777777778,\"#fb9f3a\"],[0.8888888888888888,\"#fdca26\"],[1.0,\"#f0f921\"]],\"type\":\"surface\"}],\"table\":[{\"cells\":{\"fill\":{\"color\":\"#EBF0F8\"},\"line\":{\"color\":\"white\"}},\"header\":{\"fill\":{\"color\":\"#C8D4E3\"},\"line\":{\"color\":\"white\"}},\"type\":\"table\"}]},\"layout\":{\"annotationdefaults\":{\"arrowcolor\":\"#2a3f5f\",\"arrowhead\":0,\"arrowwidth\":1},\"autotypenumbers\":\"strict\",\"coloraxis\":{\"colorbar\":{\"outlinewidth\":0,\"ticks\":\"\"}},\"colorscale\":{\"diverging\":[[0,\"#8e0152\"],[0.1,\"#c51b7d\"],[0.2,\"#de77ae\"],[0.3,\"#f1b6da\"],[0.4,\"#fde0ef\"],[0.5,\"#f7f7f7\"],[0.6,\"#e6f5d0\"],[0.7,\"#b8e186\"],[0.8,\"#7fbc41\"],[0.9,\"#4d9221\"],[1,\"#276419\"]],\"sequential\":[[0.0,\"#0d0887\"],[0.1111111111111111,\"#46039f\"],[0.2222222222222222,\"#7201a8\"],[0.3333333333333333,\"#9c179e\"],[0.4444444444444444,\"#bd3786\"],[0.5555555555555556,\"#d8576b\"],[0.6666666666666666,\"#ed7953\"],[0.7777777777777778,\"#fb9f3a\"],[0.8888888888888888,\"#fdca26\"],[1.0,\"#f0f921\"]],\"sequentialminus\":[[0.0,\"#0d0887\"],[0.1111111111111111,\"#46039f\"],[0.2222222222222222,\"#7201a8\"],[0.3333333333333333,\"#9c179e\"],[0.4444444444444444,\"#bd3786\"],[0.5555555555555556,\"#d8576b\"],[0.6666666666666666,\"#ed7953\"],[0.7777777777777778,\"#fb9f3a\"],[0.8888888888888888,\"#fdca26\"],[1.0,\"#f0f921\"]]},\"colorway\":[\"#636efa\",\"#EF553B\",\"#00cc96\",\"#ab63fa\",\"#FFA15A\",\"#19d3f3\",\"#FF6692\",\"#B6E880\",\"#FF97FF\",\"#FECB52\"],\"font\":{\"color\":\"#2a3f5f\"},\"geo\":{\"bgcolor\":\"white\",\"lakecolor\":\"white\",\"landcolor\":\"#E5ECF6\",\"showlakes\":true,\"showland\":true,\"subunitcolor\":\"white\"},\"hoverlabel\":{\"align\":\"left\"},\"hovermode\":\"closest\",\"mapbox\":{\"style\":\"light\"},\"paper_bgcolor\":\"white\",\"plot_bgcolor\":\"#E5ECF6\",\"polar\":{\"angularaxis\":{\"gridcolor\":\"white\",\"linecolor\":\"white\",\"ticks\":\"\"},\"bgcolor\":\"#E5ECF6\",\"radialaxis\":{\"gridcolor\":\"white\",\"linecolor\":\"white\",\"ticks\":\"\"}},\"scene\":{\"xaxis\":{\"backgroundcolor\":\"#E5ECF6\",\"gridcolor\":\"white\",\"gridwidth\":2,\"linecolor\":\"white\",\"showbackground\":true,\"ticks\":\"\",\"zerolinecolor\":\"white\"},\"yaxis\":{\"backgroundcolor\":\"#E5ECF6\",\"gridcolor\":\"white\",\"gridwidth\":2,\"linecolor\":\"white\",\"showbackground\":true,\"ticks\":\"\",\"zerolinecolor\":\"white\"},\"zaxis\":{\"backgroundcolor\":\"#E5ECF6\",\"gridcolor\":\"white\",\"gridwidth\":2,\"linecolor\":\"white\",\"showbackground\":true,\"ticks\":\"\",\"zerolinecolor\":\"white\"}},\"shapedefaults\":{\"line\":{\"color\":\"#2a3f5f\"}},\"ternary\":{\"aaxis\":{\"gridcolor\":\"white\",\"linecolor\":\"white\",\"ticks\":\"\"},\"baxis\":{\"gridcolor\":\"white\",\"linecolor\":\"white\",\"ticks\":\"\"},\"bgcolor\":\"#E5ECF6\",\"caxis\":{\"gridcolor\":\"white\",\"linecolor\":\"white\",\"ticks\":\"\"}},\"title\":{\"x\":0.05},\"xaxis\":{\"automargin\":true,\"gridcolor\":\"white\",\"linecolor\":\"white\",\"ticks\":\"\",\"title\":{\"standoff\":15},\"zerolinecolor\":\"white\",\"zerolinewidth\":2},\"yaxis\":{\"automargin\":true,\"gridcolor\":\"white\",\"linecolor\":\"white\",\"ticks\":\"\",\"title\":{\"standoff\":15},\"zerolinecolor\":\"white\",\"zerolinewidth\":2}}},\"title\":{\"font\":{\"color\":\"#4D5663\"},\"text\":\"Indicator\"},\"xaxis\":{\"gridcolor\":\"#E1E5ED\",\"showgrid\":true,\"tickfont\":{\"color\":\"#4D5663\"},\"title\":{\"font\":{\"color\":\"#4D5663\"},\"text\":\"\"},\"zerolinecolor\":\"#E1E5ED\"},\"yaxis\":{\"gridcolor\":\"#E1E5ED\",\"showgrid\":true,\"tickfont\":{\"color\":\"#4D5663\"},\"title\":{\"font\":{\"color\":\"#4D5663\"},\"text\":\"Count\"},\"zerolinecolor\":\"#E1E5ED\"}},                        {\"showLink\": true, \"linkText\": \"Export to plot.ly\", \"plotlyServerURL\": \"https://plot.ly\", \"responsive\": true}                    ).then(function(){\n",
       "                            \n",
       "var gd = document.getElementById('8929c748-144f-4acb-9856-d9898f190631');\n",
       "var x = new MutationObserver(function (mutations, observer) {{\n",
       "        var display = window.getComputedStyle(gd).display;\n",
       "        if (!display || display === 'none') {{\n",
       "            console.log([gd, 'removed!']);\n",
       "            Plotly.purge(gd);\n",
       "            observer.disconnect();\n",
       "        }}\n",
       "}});\n",
       "\n",
       "// Listen for the removal of the full notebook cells\n",
       "var notebookContainer = gd.closest('#notebook-container');\n",
       "if (notebookContainer) {{\n",
       "    x.observe(notebookContainer, {childList: true});\n",
       "}}\n",
       "\n",
       "// Listen for the clearing of the current output cell\n",
       "var outputEl = gd.closest('.output');\n",
       "if (outputEl) {{\n",
       "    x.observe(outputEl, {childList: true});\n",
       "}}\n",
       "\n",
       "                        })                };                });            </script>        </div>"
      ]
     },
     "metadata": {},
     "output_type": "display_data"
    }
   ],
   "source": [
    "df[[\"Signal\",\"MACD\"]].iplot(kind=\"histogram\", bins=50, theme=\"white\", title=\"Indicator\",yTitle='Count')\n"
   ]
  },
  {
   "cell_type": "code",
   "execution_count": null,
   "id": "391c2491",
   "metadata": {},
   "outputs": [],
   "source": []
  },
  {
   "cell_type": "code",
   "execution_count": null,
   "id": "856fb864",
   "metadata": {},
   "outputs": [],
   "source": []
  }
 ],
 "metadata": {
  "kernelspec": {
   "display_name": "Python 3",
   "language": "python",
   "name": "python3"
  },
  "language_info": {
   "codemirror_mode": {
    "name": "ipython",
    "version": 3
   },
   "file_extension": ".py",
   "mimetype": "text/x-python",
   "name": "python",
   "nbconvert_exporter": "python",
   "pygments_lexer": "ipython3",
   "version": "3.8.10"
  }
 },
 "nbformat": 4,
 "nbformat_minor": 5
}
